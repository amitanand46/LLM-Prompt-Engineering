{
 "cells": [
  {
   "cell_type": "markdown",
   "metadata": {
    "id": "EnV0gfkT99Bw"
   },
   "source": [
    "# Business Context\n",
    "In today's dynamic business landscape, organizations are increasingly recognizing the pivotal role customer feedback plays in shaping the trajectory of their products and services. The ability to swiftly and effectively respond to customer input not only fosters enhanced customer experiences but also serves as a catalyst for growth, prolonged customer engagement, and the nurturing of lifetime value relationships.\n",
    "As a dedicated Product Manager or Product Analyst, staying attuned to the voice of your customers is not just a best practice; it's a strategic imperative.\n",
    "While your organization may be inundated with a wealth of customer-generated feedback and support tickets, your role entails much more than just processing these inputs. To make your efforts in managing customer experience and expectations truly impactful, you need a structured approach – a method that allows you to discern the most pressing issues, set priorities, and allocate resources judiciously.\n",
    "One of the most effective strategies at your disposal as an organization is to harness the power of automated Support Ticket Categorization - done in the modern day using Large Language Models and Generative AI.\n",
    "\n",
    "\n",
    "**Objective**\n",
    "\n",
    "Develop a Generative AI application using a Large Language Model to automate the classification and processing of support tickets. The application will aim to predict ticket categories, assign priority, suggest estimated resolution times, and store the results in a structured DataFrame."
   ]
  },
  {
   "cell_type": "code",
   "execution_count": null,
   "metadata": {
    "colab": {
     "base_uri": "https://localhost:8080/"
    },
    "id": "f-zN1GllCBlR",
    "outputId": "e4b312c5-1573-45ef-a541-b0fddda12a3d"
   },
   "outputs": [
    {
     "name": "stdout",
     "output_type": "stream",
     "text": [
      "Mounted at /content/drive\n"
     ]
    }
   ],
   "source": [
    "# Importing Key Libraries\n",
    "\n",
    "import numpy as np\n",
    "\n",
    "import pandas as pd\n",
    "\n",
    "#\n",
    "\n",
    "import warnings; warnings.simplefilter('ignore')\n",
    "\n",
    "#\n",
    "from IPython.core.interactiveshell import InteractiveShell\n",
    "\n",
    "InteractiveShell.ast_node_interactivity = \"all\"\n",
    "\n",
    "#\n",
    "import matplotlib.pyplot as plt\n",
    "import seaborn as sns\n",
    "\n",
    "%matplotlib inline\n",
    "import random\n",
    "random.seed(0)\n",
    "\n",
    "pd.set_option('display.float_format', lambda x: '%.2f' % x) # To supress numerical display in scientific notations\n",
    "from google.colab import drive\n",
    "drive.mount('/content/drive')"
   ]
  },
  {
   "cell_type": "code",
   "execution_count": null,
   "metadata": {
    "id": "_3TSKBfl-gOq"
   },
   "outputs": [],
   "source": [
    "#Reading the csv file\n",
    "data = pd.read_csv('/content/drive/MyDrive/NLP_Project/support_ticket_data.csv')"
   ]
  },
  {
   "cell_type": "code",
   "execution_count": null,
   "metadata": {
    "colab": {
     "base_uri": "https://localhost:8080/",
     "height": 206
    },
    "id": "dY5D44-x--H_",
    "outputId": "26c35ba2-159e-4c52-bd2e-59a72f2b0dd0"
   },
   "outputs": [
    {
     "data": {
      "application/vnd.google.colaboratory.intrinsic+json": {
       "summary": "{\n  \"name\": \"data\",\n  \"rows\": 21,\n  \"fields\": [\n    {\n      \"column\": \"support_tick_id\",\n      \"properties\": {\n        \"dtype\": \"string\",\n        \"num_unique_values\": 21,\n        \"samples\": [\n          \"ST2023-006\",\n          \"ST2023-023\",\n          \"ST2023-021\"\n        ],\n        \"semantic_type\": \"\",\n        \"description\": \"\"\n      }\n    },\n    {\n      \"column\": \"support_ticket_text\",\n      \"properties\": {\n        \"dtype\": \"string\",\n        \"num_unique_values\": 21,\n        \"samples\": [\n          \"My internet connection has significantly slowed down over the past two days, making it challenging to work efficiently from home. Frequent disconnections are causing major disruptions. Please assist in resolving this connectivity issue promptly.\",\n          \"I accidentally formatted my USB drive with crucial files. Help needed for data recovery.\",\n          \"My internet connection is frequently dropping, affecting my work. Urgent help needed.\"\n        ],\n        \"semantic_type\": \"\",\n        \"description\": \"\"\n      }\n    }\n  ]\n}",
       "type": "dataframe",
       "variable_name": "data"
      },
      "text/html": [
       "\n",
       "  <div id=\"df-34bb5f65-1c57-496b-b653-1d4694d0c828\" class=\"colab-df-container\">\n",
       "    <div>\n",
       "<style scoped>\n",
       "    .dataframe tbody tr th:only-of-type {\n",
       "        vertical-align: middle;\n",
       "    }\n",
       "\n",
       "    .dataframe tbody tr th {\n",
       "        vertical-align: top;\n",
       "    }\n",
       "\n",
       "    .dataframe thead th {\n",
       "        text-align: right;\n",
       "    }\n",
       "</style>\n",
       "<table border=\"1\" class=\"dataframe\">\n",
       "  <thead>\n",
       "    <tr style=\"text-align: right;\">\n",
       "      <th></th>\n",
       "      <th>support_tick_id</th>\n",
       "      <th>support_ticket_text</th>\n",
       "    </tr>\n",
       "  </thead>\n",
       "  <tbody>\n",
       "    <tr>\n",
       "      <th>0</th>\n",
       "      <td>ST2023-006</td>\n",
       "      <td>My internet connection has significantly slowe...</td>\n",
       "    </tr>\n",
       "    <tr>\n",
       "      <th>1</th>\n",
       "      <td>ST2023-007</td>\n",
       "      <td>Urgent help required! My laptop refuses to sta...</td>\n",
       "    </tr>\n",
       "    <tr>\n",
       "      <th>2</th>\n",
       "      <td>ST2023-008</td>\n",
       "      <td>I've accidentally deleted essential work docum...</td>\n",
       "    </tr>\n",
       "    <tr>\n",
       "      <th>3</th>\n",
       "      <td>ST2023-009</td>\n",
       "      <td>Despite being in close proximity to my Wi-Fi r...</td>\n",
       "    </tr>\n",
       "    <tr>\n",
       "      <th>4</th>\n",
       "      <td>ST2023-010</td>\n",
       "      <td>My smartphone battery is draining rapidly, eve...</td>\n",
       "    </tr>\n",
       "  </tbody>\n",
       "</table>\n",
       "</div>\n",
       "    <div class=\"colab-df-buttons\">\n",
       "\n",
       "  <div class=\"colab-df-container\">\n",
       "    <button class=\"colab-df-convert\" onclick=\"convertToInteractive('df-34bb5f65-1c57-496b-b653-1d4694d0c828')\"\n",
       "            title=\"Convert this dataframe to an interactive table.\"\n",
       "            style=\"display:none;\">\n",
       "\n",
       "  <svg xmlns=\"http://www.w3.org/2000/svg\" height=\"24px\" viewBox=\"0 -960 960 960\">\n",
       "    <path d=\"M120-120v-720h720v720H120Zm60-500h600v-160H180v160Zm220 220h160v-160H400v160Zm0 220h160v-160H400v160ZM180-400h160v-160H180v160Zm440 0h160v-160H620v160ZM180-180h160v-160H180v160Zm440 0h160v-160H620v160Z\"/>\n",
       "  </svg>\n",
       "    </button>\n",
       "\n",
       "  <style>\n",
       "    .colab-df-container {\n",
       "      display:flex;\n",
       "      gap: 12px;\n",
       "    }\n",
       "\n",
       "    .colab-df-convert {\n",
       "      background-color: #E8F0FE;\n",
       "      border: none;\n",
       "      border-radius: 50%;\n",
       "      cursor: pointer;\n",
       "      display: none;\n",
       "      fill: #1967D2;\n",
       "      height: 32px;\n",
       "      padding: 0 0 0 0;\n",
       "      width: 32px;\n",
       "    }\n",
       "\n",
       "    .colab-df-convert:hover {\n",
       "      background-color: #E2EBFA;\n",
       "      box-shadow: 0px 1px 2px rgba(60, 64, 67, 0.3), 0px 1px 3px 1px rgba(60, 64, 67, 0.15);\n",
       "      fill: #174EA6;\n",
       "    }\n",
       "\n",
       "    .colab-df-buttons div {\n",
       "      margin-bottom: 4px;\n",
       "    }\n",
       "\n",
       "    [theme=dark] .colab-df-convert {\n",
       "      background-color: #3B4455;\n",
       "      fill: #D2E3FC;\n",
       "    }\n",
       "\n",
       "    [theme=dark] .colab-df-convert:hover {\n",
       "      background-color: #434B5C;\n",
       "      box-shadow: 0px 1px 3px 1px rgba(0, 0, 0, 0.15);\n",
       "      filter: drop-shadow(0px 1px 2px rgba(0, 0, 0, 0.3));\n",
       "      fill: #FFFFFF;\n",
       "    }\n",
       "  </style>\n",
       "\n",
       "    <script>\n",
       "      const buttonEl =\n",
       "        document.querySelector('#df-34bb5f65-1c57-496b-b653-1d4694d0c828 button.colab-df-convert');\n",
       "      buttonEl.style.display =\n",
       "        google.colab.kernel.accessAllowed ? 'block' : 'none';\n",
       "\n",
       "      async function convertToInteractive(key) {\n",
       "        const element = document.querySelector('#df-34bb5f65-1c57-496b-b653-1d4694d0c828');\n",
       "        const dataTable =\n",
       "          await google.colab.kernel.invokeFunction('convertToInteractive',\n",
       "                                                    [key], {});\n",
       "        if (!dataTable) return;\n",
       "\n",
       "        const docLinkHtml = 'Like what you see? Visit the ' +\n",
       "          '<a target=\"_blank\" href=https://colab.research.google.com/notebooks/data_table.ipynb>data table notebook</a>'\n",
       "          + ' to learn more about interactive tables.';\n",
       "        element.innerHTML = '';\n",
       "        dataTable['output_type'] = 'display_data';\n",
       "        await google.colab.output.renderOutput(dataTable, element);\n",
       "        const docLink = document.createElement('div');\n",
       "        docLink.innerHTML = docLinkHtml;\n",
       "        element.appendChild(docLink);\n",
       "      }\n",
       "    </script>\n",
       "  </div>\n",
       "\n",
       "\n",
       "<div id=\"df-c43d9bc3-01b5-4907-a543-e58271a89837\">\n",
       "  <button class=\"colab-df-quickchart\" onclick=\"quickchart('df-c43d9bc3-01b5-4907-a543-e58271a89837')\"\n",
       "            title=\"Suggest charts\"\n",
       "            style=\"display:none;\">\n",
       "\n",
       "<svg xmlns=\"http://www.w3.org/2000/svg\" height=\"24px\"viewBox=\"0 0 24 24\"\n",
       "     width=\"24px\">\n",
       "    <g>\n",
       "        <path d=\"M19 3H5c-1.1 0-2 .9-2 2v14c0 1.1.9 2 2 2h14c1.1 0 2-.9 2-2V5c0-1.1-.9-2-2-2zM9 17H7v-7h2v7zm4 0h-2V7h2v10zm4 0h-2v-4h2v4z\"/>\n",
       "    </g>\n",
       "</svg>\n",
       "  </button>\n",
       "\n",
       "<style>\n",
       "  .colab-df-quickchart {\n",
       "      --bg-color: #E8F0FE;\n",
       "      --fill-color: #1967D2;\n",
       "      --hover-bg-color: #E2EBFA;\n",
       "      --hover-fill-color: #174EA6;\n",
       "      --disabled-fill-color: #AAA;\n",
       "      --disabled-bg-color: #DDD;\n",
       "  }\n",
       "\n",
       "  [theme=dark] .colab-df-quickchart {\n",
       "      --bg-color: #3B4455;\n",
       "      --fill-color: #D2E3FC;\n",
       "      --hover-bg-color: #434B5C;\n",
       "      --hover-fill-color: #FFFFFF;\n",
       "      --disabled-bg-color: #3B4455;\n",
       "      --disabled-fill-color: #666;\n",
       "  }\n",
       "\n",
       "  .colab-df-quickchart {\n",
       "    background-color: var(--bg-color);\n",
       "    border: none;\n",
       "    border-radius: 50%;\n",
       "    cursor: pointer;\n",
       "    display: none;\n",
       "    fill: var(--fill-color);\n",
       "    height: 32px;\n",
       "    padding: 0;\n",
       "    width: 32px;\n",
       "  }\n",
       "\n",
       "  .colab-df-quickchart:hover {\n",
       "    background-color: var(--hover-bg-color);\n",
       "    box-shadow: 0 1px 2px rgba(60, 64, 67, 0.3), 0 1px 3px 1px rgba(60, 64, 67, 0.15);\n",
       "    fill: var(--button-hover-fill-color);\n",
       "  }\n",
       "\n",
       "  .colab-df-quickchart-complete:disabled,\n",
       "  .colab-df-quickchart-complete:disabled:hover {\n",
       "    background-color: var(--disabled-bg-color);\n",
       "    fill: var(--disabled-fill-color);\n",
       "    box-shadow: none;\n",
       "  }\n",
       "\n",
       "  .colab-df-spinner {\n",
       "    border: 2px solid var(--fill-color);\n",
       "    border-color: transparent;\n",
       "    border-bottom-color: var(--fill-color);\n",
       "    animation:\n",
       "      spin 1s steps(1) infinite;\n",
       "  }\n",
       "\n",
       "  @keyframes spin {\n",
       "    0% {\n",
       "      border-color: transparent;\n",
       "      border-bottom-color: var(--fill-color);\n",
       "      border-left-color: var(--fill-color);\n",
       "    }\n",
       "    20% {\n",
       "      border-color: transparent;\n",
       "      border-left-color: var(--fill-color);\n",
       "      border-top-color: var(--fill-color);\n",
       "    }\n",
       "    30% {\n",
       "      border-color: transparent;\n",
       "      border-left-color: var(--fill-color);\n",
       "      border-top-color: var(--fill-color);\n",
       "      border-right-color: var(--fill-color);\n",
       "    }\n",
       "    40% {\n",
       "      border-color: transparent;\n",
       "      border-right-color: var(--fill-color);\n",
       "      border-top-color: var(--fill-color);\n",
       "    }\n",
       "    60% {\n",
       "      border-color: transparent;\n",
       "      border-right-color: var(--fill-color);\n",
       "    }\n",
       "    80% {\n",
       "      border-color: transparent;\n",
       "      border-right-color: var(--fill-color);\n",
       "      border-bottom-color: var(--fill-color);\n",
       "    }\n",
       "    90% {\n",
       "      border-color: transparent;\n",
       "      border-bottom-color: var(--fill-color);\n",
       "    }\n",
       "  }\n",
       "</style>\n",
       "\n",
       "  <script>\n",
       "    async function quickchart(key) {\n",
       "      const quickchartButtonEl =\n",
       "        document.querySelector('#' + key + ' button');\n",
       "      quickchartButtonEl.disabled = true;  // To prevent multiple clicks.\n",
       "      quickchartButtonEl.classList.add('colab-df-spinner');\n",
       "      try {\n",
       "        const charts = await google.colab.kernel.invokeFunction(\n",
       "            'suggestCharts', [key], {});\n",
       "      } catch (error) {\n",
       "        console.error('Error during call to suggestCharts:', error);\n",
       "      }\n",
       "      quickchartButtonEl.classList.remove('colab-df-spinner');\n",
       "      quickchartButtonEl.classList.add('colab-df-quickchart-complete');\n",
       "    }\n",
       "    (() => {\n",
       "      let quickchartButtonEl =\n",
       "        document.querySelector('#df-c43d9bc3-01b5-4907-a543-e58271a89837 button');\n",
       "      quickchartButtonEl.style.display =\n",
       "        google.colab.kernel.accessAllowed ? 'block' : 'none';\n",
       "    })();\n",
       "  </script>\n",
       "</div>\n",
       "\n",
       "    </div>\n",
       "  </div>\n"
      ],
      "text/plain": [
       "  support_tick_id                                support_ticket_text\n",
       "0      ST2023-006  My internet connection has significantly slowe...\n",
       "1      ST2023-007  Urgent help required! My laptop refuses to sta...\n",
       "2      ST2023-008  I've accidentally deleted essential work docum...\n",
       "3      ST2023-009  Despite being in close proximity to my Wi-Fi r...\n",
       "4      ST2023-010  My smartphone battery is draining rapidly, eve..."
      ]
     },
     "execution_count": 3,
     "metadata": {},
     "output_type": "execute_result"
    }
   ],
   "source": [
    "#Printing the first 5 rows of the dataframe\n",
    "data.head()"
   ]
  },
  {
   "cell_type": "code",
   "execution_count": null,
   "metadata": {
    "colab": {
     "base_uri": "https://localhost:8080/"
    },
    "id": "Gy-YL2yj_CRO",
    "outputId": "0b081967-e560-4766-e11e-91887b152e16"
   },
   "outputs": [
    {
     "data": {
      "text/plain": [
       "(21, 2)"
      ]
     },
     "execution_count": 4,
     "metadata": {},
     "output_type": "execute_result"
    }
   ],
   "source": [
    "#Printing the shape of the dataframe\n",
    "data.shape"
   ]
  },
  {
   "cell_type": "code",
   "execution_count": null,
   "metadata": {
    "colab": {
     "base_uri": "https://localhost:8080/"
    },
    "id": "8QtwCNhG_LHI",
    "outputId": "32d85e12-da8d-4681-8110-9f0c0e600533"
   },
   "outputs": [
    {
     "data": {
      "text/plain": [
       "support_tick_id        0\n",
       "support_ticket_text    0\n",
       "dtype: int64"
      ]
     },
     "execution_count": 5,
     "metadata": {},
     "output_type": "execute_result"
    }
   ],
   "source": [
    "#Checking for null values\n",
    "data.isnull().sum()"
   ]
  },
  {
   "cell_type": "markdown",
   "metadata": {
    "id": "-_TJdzI5Gjqh"
   },
   "source": [
    "**No null fields in the dataset**"
   ]
  },
  {
   "cell_type": "code",
   "execution_count": null,
   "metadata": {
    "colab": {
     "base_uri": "https://localhost:8080/"
    },
    "id": "OTSOAhEB_Q0A",
    "outputId": "aec39d18-545d-4b1d-a3eb-361b1a4da37e"
   },
   "outputs": [
    {
     "data": {
      "text/plain": [
       "0"
      ]
     },
     "execution_count": 6,
     "metadata": {},
     "output_type": "execute_result"
    }
   ],
   "source": [
    "#Checking for duplicate values\n",
    "data.duplicated().sum()"
   ]
  },
  {
   "cell_type": "markdown",
   "metadata": {
    "id": "Xf2hiKCIGo6U"
   },
   "source": [
    "**No Duplicates**"
   ]
  },
  {
   "cell_type": "code",
   "execution_count": null,
   "metadata": {
    "colab": {
     "base_uri": "https://localhost:8080/"
    },
    "id": "hxw_FtPl_Uxo",
    "outputId": "23f223c5-1205-41f9-d864-1c9e443a15e0"
   },
   "outputs": [
    {
     "name": "stdout",
     "output_type": "stream",
     "text": [
      "\u001b[2K     \u001b[90m━━━━━━━━━━━━━━━━━━━━━━━━━━━━━━━━━━━━━━━━\u001b[0m \u001b[32m36.7/36.7 MB\u001b[0m \u001b[31m146.2 MB/s\u001b[0m eta \u001b[36m0:00:00\u001b[0m\n",
      "\u001b[?25h  Installing build dependencies ... \u001b[?25l\u001b[?25hdone\n",
      "  Getting requirements to build wheel ... \u001b[?25l\u001b[?25hdone\n",
      "  Installing backend dependencies ... \u001b[?25l\u001b[?25hdone\n",
      "  Preparing metadata (pyproject.toml) ... \u001b[?25l\u001b[?25hdone\n",
      "\u001b[2K     \u001b[90m━━━━━━━━━━━━━━━━━━━━━━━━━━━━━━━━━━━━━━━━\u001b[0m \u001b[32m18.2/18.2 MB\u001b[0m \u001b[31m211.7 MB/s\u001b[0m eta \u001b[36m0:00:00\u001b[0m\n",
      "\u001b[2K     \u001b[90m━━━━━━━━━━━━━━━━━━━━━━━━━━━━━━━━━━━━━━━━\u001b[0m \u001b[32m45.5/45.5 kB\u001b[0m \u001b[31m165.3 MB/s\u001b[0m eta \u001b[36m0:00:00\u001b[0m\n",
      "\u001b[2K     \u001b[90m━━━━━━━━━━━━━━━━━━━━━━━━━━━━━━━━━━━━━━━━\u001b[0m \u001b[32m133.3/133.3 kB\u001b[0m \u001b[31m327.0 MB/s\u001b[0m eta \u001b[36m0:00:00\u001b[0m\n",
      "\u001b[?25h  Building wheel for llama-cpp-python (pyproject.toml) ... \u001b[?25l\u001b[?25hdone\n",
      "\u001b[31mERROR: pip's dependency resolver does not currently take into account all the packages that are installed. This behaviour is the source of the following dependency conflicts.\n",
      "torch 2.3.0+cu121 requires nvidia-cublas-cu12==12.1.3.1; platform_system == \"Linux\" and platform_machine == \"x86_64\", which is not installed.\n",
      "torch 2.3.0+cu121 requires nvidia-cuda-cupti-cu12==12.1.105; platform_system == \"Linux\" and platform_machine == \"x86_64\", which is not installed.\n",
      "torch 2.3.0+cu121 requires nvidia-cuda-nvrtc-cu12==12.1.105; platform_system == \"Linux\" and platform_machine == \"x86_64\", which is not installed.\n",
      "torch 2.3.0+cu121 requires nvidia-cuda-runtime-cu12==12.1.105; platform_system == \"Linux\" and platform_machine == \"x86_64\", which is not installed.\n",
      "torch 2.3.0+cu121 requires nvidia-cudnn-cu12==8.9.2.26; platform_system == \"Linux\" and platform_machine == \"x86_64\", which is not installed.\n",
      "torch 2.3.0+cu121 requires nvidia-cufft-cu12==11.0.2.54; platform_system == \"Linux\" and platform_machine == \"x86_64\", which is not installed.\n",
      "torch 2.3.0+cu121 requires nvidia-curand-cu12==10.3.2.106; platform_system == \"Linux\" and platform_machine == \"x86_64\", which is not installed.\n",
      "torch 2.3.0+cu121 requires nvidia-cusolver-cu12==11.4.5.107; platform_system == \"Linux\" and platform_machine == \"x86_64\", which is not installed.\n",
      "torch 2.3.0+cu121 requires nvidia-cusparse-cu12==12.1.0.106; platform_system == \"Linux\" and platform_machine == \"x86_64\", which is not installed.\n",
      "torch 2.3.0+cu121 requires nvidia-nccl-cu12==2.20.5; platform_system == \"Linux\" and platform_machine == \"x86_64\", which is not installed.\n",
      "torch 2.3.0+cu121 requires nvidia-nvtx-cu12==12.1.105; platform_system == \"Linux\" and platform_machine == \"x86_64\", which is not installed.\u001b[0m\u001b[31m\n",
      "\u001b[0m"
     ]
    }
   ],
   "source": [
    "# Installing GPU llama-cpp-python\n",
    "!CMAKE_ARGS=\"-DLLAMA_CUBLAS=on\" FORCE_CMAKE=1 pip install llama-cpp-python==0.2.45 --force-reinstall --no-cache-dir -q"
   ]
  },
  {
   "cell_type": "code",
   "execution_count": null,
   "metadata": {
    "colab": {
     "base_uri": "https://localhost:8080/"
    },
    "id": "PQfzCdZIIO7z",
    "outputId": "5e262174-8c80-4ee1-d2ed-62a01b3ef4d0"
   },
   "outputs": [
    {
     "name": "stdout",
     "output_type": "stream",
     "text": [
      "\u001b[?25l     \u001b[90m━━━━━━━━━━━━━━━━━━━━━━━━━━━━━━━━━━━━━━━━\u001b[0m \u001b[32m0.0/330.1 kB\u001b[0m \u001b[31m?\u001b[0m eta \u001b[36m-:--:--\u001b[0m\r",
      "\u001b[2K     \u001b[90m━━━━━━━━━━━━━━━━━━━━━━━━━━━━━━━━━━━━━━━━\u001b[0m \u001b[32m330.1/330.1 kB\u001b[0m \u001b[31m9.6 MB/s\u001b[0m eta \u001b[36m0:00:00\u001b[0m\n",
      "\u001b[?25h\u001b[31mERROR: pip's dependency resolver does not currently take into account all the packages that are installed. This behaviour is the source of the following dependency conflicts.\n",
      "transformers 4.41.0 requires huggingface-hub<1.0,>=0.23.0, but you have huggingface-hub 0.20.3 which is incompatible.\u001b[0m\u001b[31m\n",
      "\u001b[0m"
     ]
    }
   ],
   "source": [
    "# For downloading the models from HF Hub\n",
    "!pip install huggingface_hub==0.20.3 -q"
   ]
  },
  {
   "cell_type": "code",
   "execution_count": null,
   "metadata": {
    "id": "S3JQTI2t_o38"
   },
   "outputs": [],
   "source": [
    "# Function to download the model from the Hugging Face model hub\n",
    "from huggingface_hub import hf_hub_download\n",
    "\n",
    "# Importing the Llama class from the llama_cpp module\n",
    "from llama_cpp import Llama\n",
    "# Importing the json module\n",
    "import json\n",
    "\n",
    "# for time computations\n",
    "import time"
   ]
  },
  {
   "cell_type": "markdown",
   "metadata": {
    "id": "dmGAERK7GvXR"
   },
   "source": [
    "**Loading the model**"
   ]
  },
  {
   "cell_type": "code",
   "execution_count": null,
   "metadata": {
    "colab": {
     "base_uri": "https://localhost:8080/",
     "height": 49,
     "referenced_widgets": [
      "77fc14a1af364fa2a6d4b75b00fb3e62",
      "3c70db9c0d894be48db812ff22a1dee8",
      "69b6bb8ba98449c48fdb4cbfc0b09644",
      "1868d5d2d01245fc97d7c1f4cfaf1c4e",
      "7036a3db94814cb1a41c50518aec9a2c",
      "f91305fc85264c5e94f554494f4f4c5b",
      "6a9164919e0c4bb2ac46b79f2c1eef29",
      "d227d99f515546dcaa2a97f2e9725120",
      "b1673ea48d16430db628a761bc6406c3",
      "2c6b1d746a9741a3bc4dad53276909c2",
      "2f09427e9a6f4aa3b45d501a4c73b7b5"
     ]
    },
    "id": "Pqhfih2kC8Qu",
    "outputId": "067d013f-e1ca-476c-aaf1-c94d45d35d1d"
   },
   "outputs": [
    {
     "data": {
      "application/vnd.jupyter.widget-view+json": {
       "model_id": "77fc14a1af364fa2a6d4b75b00fb3e62",
       "version_major": 2,
       "version_minor": 0
      },
      "text/plain": [
       "llama-2-13b-chat.Q5_K_M.gguf:   0%|          | 0.00/9.23G [00:00<?, ?B/s]"
      ]
     },
     "metadata": {},
     "output_type": "display_data"
    }
   ],
   "source": [
    "## Model configuration\n",
    "model_name_or_path = \"TheBloke/Llama-2-13B-chat-GGUF\"\n",
    "model_basename = \"llama-2-13b-chat.Q5_K_M.gguf\"\n",
    "model_path = hf_hub_download(\n",
    "    repo_id=model_name_or_path,\n",
    "    filename=model_basename\n",
    "    )"
   ]
  },
  {
   "cell_type": "markdown",
   "metadata": {
    "id": "My7XIiCHG0qc"
   },
   "source": [
    "**Configuring Model parameters**"
   ]
  },
  {
   "cell_type": "code",
   "execution_count": null,
   "metadata": {
    "colab": {
     "base_uri": "https://localhost:8080/"
    },
    "id": "JhN9QG1tC_Fz",
    "outputId": "24598967-90af-4f30-a0a2-f4372b2ae3e8"
   },
   "outputs": [
    {
     "name": "stderr",
     "output_type": "stream",
     "text": [
      "llama_model_loader: loaded meta data with 19 key-value pairs and 363 tensors from /root/.cache/huggingface/hub/models--TheBloke--Llama-2-13B-chat-GGUF/snapshots/4458acc949de0a9914c3eab623904d4fe999050a/llama-2-13b-chat.Q5_K_M.gguf (version GGUF V2)\n",
      "llama_model_loader: Dumping metadata keys/values. Note: KV overrides do not apply in this output.\n",
      "llama_model_loader: - kv   0:                       general.architecture str              = llama\n",
      "llama_model_loader: - kv   1:                               general.name str              = LLaMA v2\n",
      "llama_model_loader: - kv   2:                       llama.context_length u32              = 4096\n",
      "llama_model_loader: - kv   3:                     llama.embedding_length u32              = 5120\n",
      "llama_model_loader: - kv   4:                          llama.block_count u32              = 40\n",
      "llama_model_loader: - kv   5:                  llama.feed_forward_length u32              = 13824\n",
      "llama_model_loader: - kv   6:                 llama.rope.dimension_count u32              = 128\n",
      "llama_model_loader: - kv   7:                 llama.attention.head_count u32              = 40\n",
      "llama_model_loader: - kv   8:              llama.attention.head_count_kv u32              = 40\n",
      "llama_model_loader: - kv   9:     llama.attention.layer_norm_rms_epsilon f32              = 0.000010\n",
      "llama_model_loader: - kv  10:                          general.file_type u32              = 17\n",
      "llama_model_loader: - kv  11:                       tokenizer.ggml.model str              = llama\n",
      "llama_model_loader: - kv  12:                      tokenizer.ggml.tokens arr[str,32000]   = [\"<unk>\", \"<s>\", \"</s>\", \"<0x00>\", \"<...\n",
      "llama_model_loader: - kv  13:                      tokenizer.ggml.scores arr[f32,32000]   = [0.000000, 0.000000, 0.000000, 0.0000...\n",
      "llama_model_loader: - kv  14:                  tokenizer.ggml.token_type arr[i32,32000]   = [2, 3, 3, 6, 6, 6, 6, 6, 6, 6, 6, 6, ...\n",
      "llama_model_loader: - kv  15:                tokenizer.ggml.bos_token_id u32              = 1\n",
      "llama_model_loader: - kv  16:                tokenizer.ggml.eos_token_id u32              = 2\n",
      "llama_model_loader: - kv  17:            tokenizer.ggml.unknown_token_id u32              = 0\n",
      "llama_model_loader: - kv  18:               general.quantization_version u32              = 2\n",
      "llama_model_loader: - type  f32:   81 tensors\n",
      "llama_model_loader: - type q5_K:  241 tensors\n",
      "llama_model_loader: - type q6_K:   41 tensors\n",
      "llm_load_vocab: special tokens definition check successful ( 259/32000 ).\n",
      "llm_load_print_meta: format           = GGUF V2\n",
      "llm_load_print_meta: arch             = llama\n",
      "llm_load_print_meta: vocab type       = SPM\n",
      "llm_load_print_meta: n_vocab          = 32000\n",
      "llm_load_print_meta: n_merges         = 0\n",
      "llm_load_print_meta: n_ctx_train      = 4096\n",
      "llm_load_print_meta: n_embd           = 5120\n",
      "llm_load_print_meta: n_head           = 40\n",
      "llm_load_print_meta: n_head_kv        = 40\n",
      "llm_load_print_meta: n_layer          = 40\n",
      "llm_load_print_meta: n_rot            = 128\n",
      "llm_load_print_meta: n_embd_head_k    = 128\n",
      "llm_load_print_meta: n_embd_head_v    = 128\n",
      "llm_load_print_meta: n_gqa            = 1\n",
      "llm_load_print_meta: n_embd_k_gqa     = 5120\n",
      "llm_load_print_meta: n_embd_v_gqa     = 5120\n",
      "llm_load_print_meta: f_norm_eps       = 0.0e+00\n",
      "llm_load_print_meta: f_norm_rms_eps   = 1.0e-05\n",
      "llm_load_print_meta: f_clamp_kqv      = 0.0e+00\n",
      "llm_load_print_meta: f_max_alibi_bias = 0.0e+00\n",
      "llm_load_print_meta: n_ff             = 13824\n",
      "llm_load_print_meta: n_expert         = 0\n",
      "llm_load_print_meta: n_expert_used    = 0\n",
      "llm_load_print_meta: rope scaling     = linear\n",
      "llm_load_print_meta: freq_base_train  = 10000.0\n",
      "llm_load_print_meta: freq_scale_train = 1\n",
      "llm_load_print_meta: n_yarn_orig_ctx  = 4096\n",
      "llm_load_print_meta: rope_finetuned   = unknown\n",
      "llm_load_print_meta: model type       = 13B\n",
      "llm_load_print_meta: model ftype      = Q5_K - Medium\n",
      "llm_load_print_meta: model params     = 13.02 B\n",
      "llm_load_print_meta: model size       = 8.60 GiB (5.67 BPW) \n",
      "llm_load_print_meta: general.name     = LLaMA v2\n",
      "llm_load_print_meta: BOS token        = 1 '<s>'\n",
      "llm_load_print_meta: EOS token        = 2 '</s>'\n",
      "llm_load_print_meta: UNK token        = 0 '<unk>'\n",
      "llm_load_print_meta: LF token         = 13 '<0x0A>'\n",
      "llm_load_tensors: ggml ctx size =    0.28 MiB\n",
      "llm_load_tensors: offloading 40 repeating layers to GPU\n",
      "llm_load_tensors: offloading non-repeating layers to GPU\n",
      "llm_load_tensors: offloaded 41/41 layers to GPU\n",
      "llm_load_tensors:        CPU buffer size =   107.42 MiB\n",
      "llm_load_tensors:      CUDA0 buffer size =  8694.21 MiB\n",
      "...................................................................................................\n",
      "llama_new_context_with_model: n_ctx      = 4096\n",
      "llama_new_context_with_model: freq_base  = 10000.0\n",
      "llama_new_context_with_model: freq_scale = 1\n",
      "llama_kv_cache_init:      CUDA0 KV buffer size =  3200.00 MiB\n",
      "llama_new_context_with_model: KV self size  = 3200.00 MiB, K (f16): 1600.00 MiB, V (f16): 1600.00 MiB\n",
      "llama_new_context_with_model:  CUDA_Host input buffer size   =    19.04 MiB\n",
      "llama_new_context_with_model:      CUDA0 compute buffer size =   368.02 MiB\n",
      "llama_new_context_with_model:  CUDA_Host compute buffer size =    10.00 MiB\n",
      "llama_new_context_with_model: graph splits (measure): 3\n",
      "AVX = 1 | AVX_VNNI = 0 | AVX2 = 1 | AVX512 = 1 | AVX512_VBMI = 0 | AVX512_VNNI = 0 | FMA = 1 | NEON = 0 | ARM_FMA = 0 | F16C = 1 | FP16_VA = 0 | WASM_SIMD = 0 | BLAS = 1 | SSE3 = 1 | SSSE3 = 1 | VSX = 0 | MATMUL_INT8 = 0 | \n",
      "Model metadata: {'tokenizer.ggml.unknown_token_id': '0', 'tokenizer.ggml.eos_token_id': '2', 'general.architecture': 'llama', 'llama.context_length': '4096', 'general.name': 'LLaMA v2', 'llama.embedding_length': '5120', 'llama.feed_forward_length': '13824', 'llama.attention.layer_norm_rms_epsilon': '0.000010', 'llama.rope.dimension_count': '128', 'llama.attention.head_count': '40', 'tokenizer.ggml.bos_token_id': '1', 'llama.block_count': '40', 'llama.attention.head_count_kv': '40', 'general.quantization_version': '2', 'tokenizer.ggml.model': 'llama', 'general.file_type': '17'}\n"
     ]
    }
   ],
   "source": [
    "lcpp_llm = Llama(\n",
    "    model_path=model_path,\n",
    "    n_threads=2,  # CPU cores\n",
    "    n_batch=512,  # batch size.\n",
    "    n_gpu_layers=43,  # Number of layers to be executed on GPU\n",
    "    n_ctx=4096,  # Context window\n",
    ")"
   ]
  },
  {
   "cell_type": "code",
   "execution_count": null,
   "metadata": {
    "id": "vZqBQix7DMHV"
   },
   "outputs": [],
   "source": [
    "#Defining a function to generate ticket category based on the support ticket and user's prompt\n",
    "def response_1(instruction, ticket):\n",
    "\n",
    "    system_message = \"\"\"\n",
    "        [INST]<<SYS>>\n",
    "        {}\n",
    "        <</SYS>>[/INST]\n",
    "    \"\"\".format(instruction)\n",
    "\n",
    "    # Combining the support ticket and user_prompt to create the prompt\n",
    "    prompt = f\"Support Ticket: {ticket}\\n{system_message}\"\n",
    "\n",
    "    # Generate a response from the LLaMA model\n",
    "    response = lcpp_llm(\n",
    "        prompt=prompt, # Final prompt to the model\n",
    "        max_tokens=1024, # the maximum number of tokens that the model should generate\n",
    "        temperature=0, # controls the randomness of the generated response\n",
    "        top_p=0.95, # controls the diversity of the generated response by establishing a cumulative probability cutoff for token selection\n",
    "        repeat_penalty=1.2, # controls the penalty for repeating tokens in the generated response\n",
    "        top_k=50, # controls the maximum number of most-likely next tokens to consider\n",
    "        stop=['INST'], # list of tokens that are used to dynamically stop response generation\n",
    "        echo=False, # controls whether the input (prompt) to the model should be returned\n",
    "        seed=42, # specifies a seed value that helps replicate results\n",
    "    )\n",
    "\n",
    "    # Extracting the model's response\n",
    "    response_text = response[\"choices\"][0][\"text\"]\n",
    "    return response_text"
   ]
  },
  {
   "cell_type": "code",
   "execution_count": null,
   "metadata": {
    "id": "eVyiasYdB7Wt"
   },
   "outputs": [],
   "source": [
    "# defining a function to parse the JSON output from the model\n",
    "def extract_json_data(json_str):\n",
    "    try:\n",
    "        # Find the indices of the opening and closing curly braces\n",
    "        json_start = json_str.find('{')\n",
    "        json_end = json_str.rfind('}')\n",
    "\n",
    "        if json_start != -1 and json_end != -1:\n",
    "            extracted_category = json_str[json_start:json_end + 1]  # Extract the JSON object\n",
    "            data_dict = json.loads(extracted_category)\n",
    "            return data_dict\n",
    "        else:\n",
    "            print(f\"Warning: JSON object not found in response: {json_str}\")\n",
    "            return {}\n",
    "    except json.JSONDecodeError as e:\n",
    "        print(f\"Error parsing JSON: {e}\")\n",
    "        return {}"
   ]
  },
  {
   "cell_type": "code",
   "execution_count": null,
   "metadata": {
    "id": "xU3MgxD7CCVv"
   },
   "outputs": [],
   "source": [
    "# creating a copy of the data\n",
    "data_1 = data.copy()"
   ]
  },
  {
   "cell_type": "code",
   "execution_count": null,
   "metadata": {
    "id": "2iMGKz7iEqrr"
   },
   "outputs": [],
   "source": [
    "#Promt for generating ticket category\n",
    "prompt_1 = \"\"\"\n",
    "    You are given . Please assign a support ticket category in upto three words for the Support Ticket description provided by the user.\n",
    "\n",
    "    Format the output as a JSON object with a single key-value pair as shown below:\n",
    "    {\"Category\": \"your_category_prediction\"}\n",
    "    \"\"\""
   ]
  },
  {
   "cell_type": "code",
   "execution_count": null,
   "metadata": {
    "colab": {
     "base_uri": "https://localhost:8080/"
    },
    "id": "TlDNXOLiDhPx",
    "outputId": "e85f41ee-384c-42f5-ea2d-05e2ea9214fc"
   },
   "outputs": [
    {
     "name": "stderr",
     "output_type": "stream",
     "text": [
      "\n",
      "llama_print_timings:        load time =     669.84 ms\n",
      "llama_print_timings:      sample time =      10.67 ms /    19 runs   (    0.56 ms per token,  1781.03 tokens per second)\n",
      "llama_print_timings: prompt eval time =     669.48 ms /   149 tokens (    4.49 ms per token,   222.56 tokens per second)\n",
      "llama_print_timings:        eval time =     935.20 ms /    18 runs   (   51.96 ms per token,    19.25 tokens per second)\n",
      "llama_print_timings:       total time =    1667.73 ms /   167 tokens\n",
      "Llama.generate: prefix-match hit\n",
      "\n",
      "llama_print_timings:        load time =     669.84 ms\n",
      "llama_print_timings:      sample time =       7.17 ms /    12 runs   (    0.60 ms per token,  1674.81 tokens per second)\n",
      "llama_print_timings: prompt eval time =     466.35 ms /   143 tokens (    3.26 ms per token,   306.64 tokens per second)\n",
      "llama_print_timings:        eval time =     616.44 ms /    11 runs   (   56.04 ms per token,    17.84 tokens per second)\n",
      "llama_print_timings:       total time =    1130.63 ms /   154 tokens\n",
      "Llama.generate: prefix-match hit\n",
      "\n",
      "llama_print_timings:        load time =     669.84 ms\n",
      "llama_print_timings:      sample time =       6.80 ms /    12 runs   (    0.57 ms per token,  1765.74 tokens per second)\n",
      "llama_print_timings: prompt eval time =     469.88 ms /   139 tokens (    3.38 ms per token,   295.82 tokens per second)\n",
      "llama_print_timings:        eval time =     605.59 ms /    11 runs   (   55.05 ms per token,    18.16 tokens per second)\n",
      "llama_print_timings:       total time =    1116.01 ms /   150 tokens\n",
      "Llama.generate: prefix-match hit\n",
      "\n",
      "llama_print_timings:        load time =     669.84 ms\n",
      "llama_print_timings:      sample time =      14.54 ms /    22 runs   (    0.66 ms per token,  1512.76 tokens per second)\n",
      "llama_print_timings: prompt eval time =     474.76 ms /   147 tokens (    3.23 ms per token,   309.63 tokens per second)\n",
      "llama_print_timings:        eval time =    1089.17 ms /    21 runs   (   51.87 ms per token,    19.28 tokens per second)\n",
      "llama_print_timings:       total time =    1666.47 ms /   168 tokens\n",
      "Llama.generate: prefix-match hit\n",
      "\n",
      "llama_print_timings:        load time =     669.84 ms\n",
      "llama_print_timings:      sample time =       9.44 ms /    13 runs   (    0.73 ms per token,  1376.83 tokens per second)\n",
      "llama_print_timings: prompt eval time =     403.62 ms /   122 tokens (    3.31 ms per token,   302.26 tokens per second)\n",
      "llama_print_timings:        eval time =     589.39 ms /    12 runs   (   49.12 ms per token,    20.36 tokens per second)\n",
      "llama_print_timings:       total time =    1068.22 ms /   134 tokens\n",
      "Llama.generate: prefix-match hit\n",
      "\n",
      "llama_print_timings:        load time =     669.84 ms\n",
      "llama_print_timings:      sample time =       8.76 ms /    12 runs   (    0.73 ms per token,  1370.49 tokens per second)\n",
      "llama_print_timings: prompt eval time =     414.57 ms /   122 tokens (    3.40 ms per token,   294.28 tokens per second)\n",
      "llama_print_timings:        eval time =     537.84 ms /    11 runs   (   48.89 ms per token,    20.45 tokens per second)\n",
      "llama_print_timings:       total time =    1017.82 ms /   133 tokens\n",
      "Llama.generate: prefix-match hit\n",
      "\n",
      "llama_print_timings:        load time =     669.84 ms\n",
      "llama_print_timings:      sample time =       8.35 ms /    13 runs   (    0.64 ms per token,  1557.45 tokens per second)\n",
      "llama_print_timings: prompt eval time =     399.06 ms /   125 tokens (    3.19 ms per token,   313.23 tokens per second)\n",
      "llama_print_timings:        eval time =     619.94 ms /    12 runs   (   51.66 ms per token,    19.36 tokens per second)\n",
      "llama_print_timings:       total time =    1079.92 ms /   137 tokens\n",
      "Llama.generate: prefix-match hit\n",
      "\n",
      "llama_print_timings:        load time =     669.84 ms\n",
      "llama_print_timings:      sample time =       7.11 ms /    12 runs   (    0.59 ms per token,  1688.48 tokens per second)\n",
      "llama_print_timings: prompt eval time =     405.44 ms /   126 tokens (    3.22 ms per token,   310.77 tokens per second)\n",
      "llama_print_timings:        eval time =     593.86 ms /    11 runs   (   53.99 ms per token,    18.52 tokens per second)\n",
      "llama_print_timings:       total time =    1040.37 ms /   137 tokens\n",
      "Llama.generate: prefix-match hit\n",
      "\n",
      "llama_print_timings:        load time =     669.84 ms\n",
      "llama_print_timings:      sample time =       6.78 ms /    12 runs   (    0.57 ms per token,  1769.39 tokens per second)\n",
      "llama_print_timings: prompt eval time =     393.12 ms /   120 tokens (    3.28 ms per token,   305.25 tokens per second)\n",
      "llama_print_timings:        eval time =     591.54 ms /    11 runs   (   53.78 ms per token,    18.60 tokens per second)\n",
      "llama_print_timings:       total time =    1022.63 ms /   131 tokens\n",
      "Llama.generate: prefix-match hit\n",
      "\n",
      "llama_print_timings:        load time =     669.84 ms\n",
      "llama_print_timings:      sample time =       7.30 ms /    13 runs   (    0.56 ms per token,  1780.58 tokens per second)\n",
      "llama_print_timings: prompt eval time =     462.78 ms /   129 tokens (    3.59 ms per token,   278.75 tokens per second)\n",
      "llama_print_timings:        eval time =     660.98 ms /    12 runs   (   55.08 ms per token,    18.15 tokens per second)\n",
      "llama_print_timings:       total time =    1165.19 ms /   141 tokens\n",
      "Llama.generate: prefix-match hit\n",
      "\n",
      "llama_print_timings:        load time =     669.84 ms\n",
      "llama_print_timings:      sample time =       6.87 ms /    12 runs   (    0.57 ms per token,  1746.47 tokens per second)\n",
      "llama_print_timings: prompt eval time =     396.93 ms /   122 tokens (    3.25 ms per token,   307.36 tokens per second)\n",
      "llama_print_timings:        eval time =     612.92 ms /    11 runs   (   55.72 ms per token,    17.95 tokens per second)\n",
      "llama_print_timings:       total time =    1047.23 ms /   133 tokens\n",
      "Llama.generate: prefix-match hit\n",
      "\n",
      "llama_print_timings:        load time =     669.84 ms\n",
      "llama_print_timings:      sample time =       7.00 ms /    12 runs   (    0.58 ms per token,  1714.53 tokens per second)\n",
      "llama_print_timings: prompt eval time =     401.43 ms /   126 tokens (    3.19 ms per token,   313.88 tokens per second)\n",
      "llama_print_timings:        eval time =     620.92 ms /    11 runs   (   56.45 ms per token,    17.72 tokens per second)\n",
      "llama_print_timings:       total time =    1060.56 ms /   137 tokens\n",
      "Llama.generate: prefix-match hit\n",
      "\n",
      "llama_print_timings:        load time =     669.84 ms\n",
      "llama_print_timings:      sample time =       7.39 ms /    13 runs   (    0.57 ms per token,  1759.61 tokens per second)\n",
      "llama_print_timings: prompt eval time =     402.24 ms /   126 tokens (    3.19 ms per token,   313.25 tokens per second)\n",
      "llama_print_timings:        eval time =     672.89 ms /    12 runs   (   56.07 ms per token,    17.83 tokens per second)\n",
      "llama_print_timings:       total time =    1113.46 ms /   138 tokens\n",
      "Llama.generate: prefix-match hit\n",
      "\n",
      "llama_print_timings:        load time =     669.84 ms\n",
      "llama_print_timings:      sample time =       7.44 ms /    13 runs   (    0.57 ms per token,  1747.78 tokens per second)\n",
      "llama_print_timings: prompt eval time =     391.27 ms /   118 tokens (    3.32 ms per token,   301.58 tokens per second)\n",
      "llama_print_timings:        eval time =     668.10 ms /    12 runs   (   55.67 ms per token,    17.96 tokens per second)\n",
      "llama_print_timings:       total time =    1102.26 ms /   130 tokens\n",
      "Llama.generate: prefix-match hit\n",
      "\n",
      "llama_print_timings:        load time =     669.84 ms\n",
      "llama_print_timings:      sample time =       7.79 ms /    13 runs   (    0.60 ms per token,  1668.38 tokens per second)\n",
      "llama_print_timings: prompt eval time =     396.49 ms /   123 tokens (    3.22 ms per token,   310.22 tokens per second)\n",
      "llama_print_timings:        eval time =     681.26 ms /    12 runs   (   56.77 ms per token,    17.61 tokens per second)\n",
      "llama_print_timings:       total time =    1119.92 ms /   135 tokens\n",
      "Llama.generate: prefix-match hit\n",
      "\n",
      "llama_print_timings:        load time =     669.84 ms\n",
      "llama_print_timings:      sample time =       7.70 ms /    13 runs   (    0.59 ms per token,  1688.53 tokens per second)\n",
      "llama_print_timings: prompt eval time =     390.67 ms /   114 tokens (    3.43 ms per token,   291.81 tokens per second)\n",
      "llama_print_timings:        eval time =     667.40 ms /    12 runs   (   55.62 ms per token,    17.98 tokens per second)\n",
      "llama_print_timings:       total time =    1105.38 ms /   126 tokens\n",
      "Llama.generate: prefix-match hit\n",
      "\n",
      "llama_print_timings:        load time =     669.84 ms\n",
      "llama_print_timings:      sample time =      24.82 ms /    35 runs   (    0.71 ms per token,  1410.04 tokens per second)\n",
      "llama_print_timings: prompt eval time =     405.03 ms /   119 tokens (    3.40 ms per token,   293.81 tokens per second)\n",
      "llama_print_timings:        eval time =    1785.20 ms /    34 runs   (   52.51 ms per token,    19.05 tokens per second)\n",
      "llama_print_timings:       total time =    2376.07 ms /   153 tokens\n",
      "Llama.generate: prefix-match hit\n",
      "\n",
      "llama_print_timings:        load time =     669.84 ms\n",
      "llama_print_timings:      sample time =       8.89 ms /    12 runs   (    0.74 ms per token,  1349.68 tokens per second)\n",
      "llama_print_timings: prompt eval time =     406.45 ms /   114 tokens (    3.57 ms per token,   280.48 tokens per second)\n",
      "llama_print_timings:        eval time =     594.09 ms /    11 runs   (   54.01 ms per token,    18.52 tokens per second)\n",
      "llama_print_timings:       total time =    1062.04 ms /   125 tokens\n",
      "Llama.generate: prefix-match hit\n",
      "\n",
      "llama_print_timings:        load time =     669.84 ms\n",
      "llama_print_timings:      sample time =       7.01 ms /    12 runs   (    0.58 ms per token,  1712.08 tokens per second)\n",
      "llama_print_timings: prompt eval time =     398.31 ms /   115 tokens (    3.46 ms per token,   288.72 tokens per second)\n",
      "llama_print_timings:        eval time =     632.88 ms /    11 runs   (   57.53 ms per token,    17.38 tokens per second)\n",
      "llama_print_timings:       total time =    1069.97 ms /   126 tokens\n",
      "Llama.generate: prefix-match hit\n",
      "\n",
      "llama_print_timings:        load time =     669.84 ms\n",
      "llama_print_timings:      sample time =      10.00 ms /    17 runs   (    0.59 ms per token,  1699.66 tokens per second)\n",
      "llama_print_timings: prompt eval time =     692.11 ms /   271 tokens (    2.55 ms per token,   391.56 tokens per second)\n",
      "llama_print_timings:        eval time =     894.35 ms /    16 runs   (   55.90 ms per token,    17.89 tokens per second)\n",
      "llama_print_timings:       total time =    1645.08 ms /   287 tokens\n",
      "Llama.generate: prefix-match hit\n",
      "\n",
      "llama_print_timings:        load time =     669.84 ms\n",
      "llama_print_timings:      sample time =       6.44 ms /    11 runs   (    0.59 ms per token,  1708.07 tokens per second)\n",
      "llama_print_timings: prompt eval time =     792.64 ms /   384 tokens (    2.06 ms per token,   484.46 tokens per second)\n",
      "llama_print_timings:        eval time =     567.75 ms /    10 runs   (   56.78 ms per token,    17.61 tokens per second)\n",
      "llama_print_timings:       total time =    1401.65 ms /   394 tokens\n"
     ]
    },
    {
     "name": "stdout",
     "output_type": "stream",
     "text": [
      "Time taken  26.363519430160522\n"
     ]
    }
   ],
   "source": [
    "start = time.time()\n",
    "#Applying the ticket category generation function\n",
    "data_1['model_response_cat'] = data_1['support_ticket_text'].apply(lambda x: response_1(prompt_1,x))\n",
    "end = time.time()\n",
    "print(\"Time taken \",(end-start))"
   ]
  },
  {
   "cell_type": "code",
   "execution_count": null,
   "metadata": {
    "colab": {
     "base_uri": "https://localhost:8080/"
    },
    "id": "70COMBpzFMSc",
    "outputId": "fc54b920-afcc-49be-cad7-0f37788320ee"
   },
   "outputs": [
    {
     "data": {
      "text/plain": [
       "0     \\n    {\\n    \"Category\": \"Internet Connectivit...\n",
       "1                      { \"Category\": \"Hardware Issue\" }\n",
       "2                     \\n{ \"Category\": \"Data Recovery\" }\n",
       "3     \\n    {\\n    \"Category\": \"Wi-Fi Signal Issues\"...\n",
       "4                     \\n{ \"Category\": \"Battery Issue\" }\n",
       "5                    \\n{ \"Category\": \"Password Reset\" }\n",
       "6                \\n{ \"Category\": \"Performance Issues\" }\n",
       "7                      { \"Category\": \"Hardware Issue\" }\n",
       "8                     \\n{ \"Category\": \"Data Recovery\" }\n",
       "9                    \\n{ \"Category\": \"Hardware Issue\" }\n",
       "10                    \\n{ \"Category\": \"Data Recovery\" }\n",
       "11                     { \"Category\": \"Hardware Issue\" }\n",
       "12                     \\n{ \"Category\": \"Water Damage\" }\n",
       "13                  \\n{ \"Category\": \"Physical Damage\" }\n",
       "14                   \\n{ \"Category\": \"Hardware Issue\" }\n",
       "15       \\n{ \"Category\": \"Internet Connection Issues\" }\n",
       "16    \\n    Sure! Based on the description provided,...\n",
       "17                    \\n{ \"Category\": \"Data Recovery\" }\n",
       "18                    \\n{ \"Category\": \"Data Recovery\" }\n",
       "19    \\n    {\\n    \"Category\": \"Internet Connectivit...\n",
       "20                     { \"Category\": \"Software Issue\" }\n",
       "Name: model_response_cat, dtype: object"
      ]
     },
     "execution_count": 17,
     "metadata": {},
     "output_type": "execute_result"
    }
   ],
   "source": [
    "#Printing the model's raw response\n",
    "data_1['model_response_cat']"
   ]
  },
  {
   "cell_type": "code",
   "execution_count": null,
   "metadata": {
    "colab": {
     "base_uri": "https://localhost:8080/"
    },
    "id": "qJECXL-fwXJb",
    "outputId": "1445d4ac-5048-4a80-e739-6353adcf138a"
   },
   "outputs": [
    {
     "data": {
      "text/plain": [
       "0    {'Category': 'Internet Connectivity Issues'}\n",
       "1                  {'Category': 'Hardware Issue'}\n",
       "2                   {'Category': 'Data Recovery'}\n",
       "3             {'Category': 'Wi-Fi Signal Issues'}\n",
       "4                   {'Category': 'Battery Issue'}\n",
       "Name: model_response_cat_parsed, dtype: object"
      ]
     },
     "execution_count": 18,
     "metadata": {},
     "output_type": "execute_result"
    }
   ],
   "source": [
    "#Parsing the JSON data from the model's response\n",
    "data_1['model_response_cat_parsed'] = data_1['model_response_cat'].apply(extract_json_data)\n",
    "data_1['model_response_cat_parsed'].head()"
   ]
  },
  {
   "cell_type": "code",
   "execution_count": null,
   "metadata": {
    "id": "JX4R3wi2w2xB"
   },
   "outputs": [],
   "source": [
    "#Parsing the value field from the JSON key value pair\n",
    "data_1['Category']=pd.json_normalize(data_1['model_response_cat_parsed'])"
   ]
  },
  {
   "cell_type": "code",
   "execution_count": null,
   "metadata": {
    "id": "wZoTpdt_DmfI"
   },
   "outputs": [],
   "source": [
    "#Dropping the unwanted columns\n",
    "data_1.drop(columns=['model_response_cat','model_response_cat_parsed'], inplace=True)"
   ]
  },
  {
   "cell_type": "code",
   "execution_count": null,
   "metadata": {
    "colab": {
     "base_uri": "https://localhost:8080/"
    },
    "id": "y6jnC6mCKPgP",
    "outputId": "01c5ee07-5265-4dc7-fff2-50f014dbf107"
   },
   "outputs": [
    {
     "data": {
      "text/plain": [
       "0     Internet Connectivity Issues\n",
       "1                   Hardware Issue\n",
       "2                    Data Recovery\n",
       "3              Wi-Fi Signal Issues\n",
       "4                    Battery Issue\n",
       "5                   Password Reset\n",
       "6               Performance Issues\n",
       "7                   Hardware Issue\n",
       "8                    Data Recovery\n",
       "9                   Hardware Issue\n",
       "10                   Data Recovery\n",
       "11                  Hardware Issue\n",
       "12                    Water Damage\n",
       "13                 Physical Damage\n",
       "14                  Hardware Issue\n",
       "15      Internet Connection Issues\n",
       "16                    Wi-Fi Issues\n",
       "17                   Data Recovery\n",
       "18                   Data Recovery\n",
       "19           Internet Connectivity\n",
       "20                  Software Issue\n",
       "Name: Category, dtype: object"
      ]
     },
     "execution_count": 21,
     "metadata": {},
     "output_type": "execute_result"
    }
   ],
   "source": [
    "data_1['Category']"
   ]
  },
  {
   "cell_type": "code",
   "execution_count": null,
   "metadata": {
    "colab": {
     "base_uri": "https://localhost:8080/"
    },
    "id": "vNnpXqeRokSj",
    "outputId": "827d102d-9a61-4d5a-ec16-7a2fbe78c549"
   },
   "outputs": [
    {
     "data": {
      "text/plain": [
       "13"
      ]
     },
     "execution_count": 22,
     "metadata": {},
     "output_type": "execute_result"
    }
   ],
   "source": [
    "data_1['Category'].nunique()"
   ]
  },
  {
   "cell_type": "code",
   "execution_count": null,
   "metadata": {
    "id": "6J-fE4IMQa_B"
   },
   "outputs": [],
   "source": [
    "#Defining a function to generate ticket tags based on the support ticket, ticket category and user's prompt\n",
    "def response_2(instruction, ticket,category):\n",
    "\n",
    "    system_message = \"\"\"\n",
    "        [INST]<<SYS>>\n",
    "        {}\n",
    "        <</SYS>>[/INST]\n",
    "    \"\"\".format(instruction)\n",
    "\n",
    "    # Combining the support ticket, category and user_prompt to create the prompt\n",
    "    prompt = f\"Support Ticket: {ticket}\\nCategory: {category}\\n{system_message}\"\n",
    "\n",
    "    # Generate a response from the LLaMA model\n",
    "    response = lcpp_llm(\n",
    "        prompt=prompt, # Final prompt to the model\n",
    "        max_tokens=1024, # the maximum number of tokens that the model should generate\n",
    "        temperature=0, # controls the randomness of the generated response\n",
    "        top_p=0.95, # controls the diversity of the generated response by establishing a cumulative probability cutoff for token selection\n",
    "        repeat_penalty=1.2, # controls the penalty for repeating tokens in the generated response\n",
    "        top_k=50, # controls the maximum number of most-likely next tokens to consider\n",
    "        stop=['INST'], # list of tokens that are used to dynamically stop response generation\n",
    "        echo=False, # controls whether the input (prompt) to the model should be returned\n",
    "        seed=42, # specifies a seed value that helps replicate results\n",
    "    )\n",
    "\n",
    "    # Extracting the model's response\n",
    "    response_text = response[\"choices\"][0][\"text\"]\n",
    "    return response_text"
   ]
  },
  {
   "cell_type": "code",
   "execution_count": null,
   "metadata": {
    "id": "fNogsAgmD3_K"
   },
   "outputs": [],
   "source": [
    "#Promt for generating ticket tags\n",
    "prompt_2 = \"\"\"\n",
    "    You are an AI analyzing support tickets. You are given support ticket description and the assigned category.\n",
    "    Please tag the issues faced by the user from the ticket description and category provided.\n",
    "\n",
    "    In case multiple issues are identified, prepare a comma separated list and assign it as a value to the key \"Tag\".\n",
    "    In case issues cannot be identified, set \"No Tags\" (including quotes) for the corresponding JSON key value.\n",
    "    Format the output as a JSON object with only one key-value pair as shown below. :\n",
    "    {\"Tag\": \"your_tag_prediction_1, your_tag_prediction_2, your_tag_prediction_3\"}\n",
    "\n",
    "    \"\"\""
   ]
  },
  {
   "cell_type": "code",
   "execution_count": null,
   "metadata": {
    "colab": {
     "base_uri": "https://localhost:8080/"
    },
    "id": "mhoe95k9D3_L",
    "outputId": "1e0be30e-3b93-465b-c7e0-cb60a99a8883"
   },
   "outputs": [
    {
     "name": "stderr",
     "output_type": "stream",
     "text": [
      "Llama.generate: prefix-match hit\n",
      "\n",
      "llama_print_timings:        load time =     669.84 ms\n",
      "llama_print_timings:      sample time =      78.78 ms /   126 runs   (    0.63 ms per token,  1599.45 tokens per second)\n",
      "llama_print_timings: prompt eval time =     533.17 ms /   232 tokens (    2.30 ms per token,   435.13 tokens per second)\n",
      "llama_print_timings:        eval time =    7040.10 ms /   125 runs   (   56.32 ms per token,    17.76 tokens per second)\n",
      "llama_print_timings:       total time =    8102.25 ms /   357 tokens\n",
      "Llama.generate: prefix-match hit\n",
      "\n",
      "llama_print_timings:        load time =     669.84 ms\n",
      "llama_print_timings:      sample time =      58.37 ms /    99 runs   (    0.59 ms per token,  1696.22 tokens per second)\n",
      "llama_print_timings: prompt eval time =     553.20 ms /   229 tokens (    2.42 ms per token,   413.95 tokens per second)\n",
      "llama_print_timings:        eval time =    5576.02 ms /    98 runs   (   56.90 ms per token,    17.58 tokens per second)\n",
      "llama_print_timings:       total time =    6494.06 ms /   327 tokens\n",
      "Llama.generate: prefix-match hit\n",
      "\n",
      "llama_print_timings:        load time =     669.84 ms\n",
      "llama_print_timings:      sample time =     100.39 ms /   120 runs   (    0.84 ms per token,  1195.28 tokens per second)\n",
      "llama_print_timings: prompt eval time =     554.93 ms /   225 tokens (    2.47 ms per token,   405.46 tokens per second)\n",
      "llama_print_timings:        eval time =    6653.02 ms /   119 runs   (   55.91 ms per token,    17.89 tokens per second)\n",
      "llama_print_timings:       total time =    7838.21 ms /   344 tokens\n",
      "Llama.generate: prefix-match hit\n",
      "\n",
      "llama_print_timings:        load time =     669.84 ms\n",
      "llama_print_timings:      sample time =      23.97 ms /    44 runs   (    0.54 ms per token,  1835.47 tokens per second)\n",
      "llama_print_timings: prompt eval time =     585.62 ms /   237 tokens (    2.47 ms per token,   404.70 tokens per second)\n",
      "llama_print_timings:        eval time =    2470.88 ms /    43 runs   (   57.46 ms per token,    17.40 tokens per second)\n",
      "llama_print_timings:       total time =    3205.82 ms /   280 tokens\n",
      "Llama.generate: prefix-match hit\n",
      "\n",
      "llama_print_timings:        load time =     669.84 ms\n",
      "llama_print_timings:      sample time =     103.10 ms /   167 runs   (    0.62 ms per token,  1619.82 tokens per second)\n",
      "llama_print_timings: prompt eval time =     561.67 ms /   209 tokens (    2.69 ms per token,   372.10 tokens per second)\n",
      "llama_print_timings:        eval time =    9383.30 ms /   166 runs   (   56.53 ms per token,    17.69 tokens per second)\n",
      "llama_print_timings:       total time =   10653.11 ms /   375 tokens\n",
      "Llama.generate: prefix-match hit\n",
      "\n",
      "llama_print_timings:        load time =     669.84 ms\n",
      "llama_print_timings:      sample time =      26.29 ms /    46 runs   (    0.57 ms per token,  1749.85 tokens per second)\n",
      "llama_print_timings: prompt eval time =     553.32 ms /   208 tokens (    2.66 ms per token,   375.91 tokens per second)\n",
      "llama_print_timings:        eval time =    2585.00 ms /    45 runs   (   57.44 ms per token,    17.41 tokens per second)\n",
      "llama_print_timings:       total time =    3299.41 ms /   253 tokens\n",
      "Llama.generate: prefix-match hit\n",
      "\n",
      "llama_print_timings:        load time =     669.84 ms\n",
      "llama_print_timings:      sample time =      20.51 ms /    36 runs   (    0.57 ms per token,  1755.33 tokens per second)\n",
      "llama_print_timings: prompt eval time =     577.13 ms /   211 tokens (    2.74 ms per token,   365.60 tokens per second)\n",
      "llama_print_timings:        eval time =    2006.13 ms /    35 runs   (   57.32 ms per token,    17.45 tokens per second)\n",
      "llama_print_timings:       total time =    2703.61 ms /   246 tokens\n",
      "Llama.generate: prefix-match hit\n",
      "\n",
      "llama_print_timings:        load time =     669.84 ms\n",
      "llama_print_timings:      sample time =      20.34 ms /    36 runs   (    0.56 ms per token,  1769.91 tokens per second)\n",
      "llama_print_timings: prompt eval time =     564.54 ms /   212 tokens (    2.66 ms per token,   375.53 tokens per second)\n",
      "llama_print_timings:        eval time =    2037.48 ms /    35 runs   (   58.21 ms per token,    17.18 tokens per second)\n",
      "llama_print_timings:       total time =    2714.98 ms /   247 tokens\n",
      "Llama.generate: prefix-match hit\n",
      "\n",
      "llama_print_timings:        load time =     669.84 ms\n",
      "llama_print_timings:      sample time =     103.15 ms /   172 runs   (    0.60 ms per token,  1667.51 tokens per second)\n",
      "llama_print_timings: prompt eval time =     571.51 ms /   206 tokens (    2.77 ms per token,   360.45 tokens per second)\n",
      "llama_print_timings:        eval time =    9737.58 ms /   171 runs   (   56.94 ms per token,    17.56 tokens per second)\n",
      "llama_print_timings:       total time =   11021.90 ms /   377 tokens\n",
      "Llama.generate: prefix-match hit\n",
      "\n",
      "llama_print_timings:        load time =     669.84 ms\n",
      "llama_print_timings:      sample time =      22.77 ms /    39 runs   (    0.58 ms per token,  1713.08 tokens per second)\n",
      "llama_print_timings: prompt eval time =     589.87 ms /   215 tokens (    2.74 ms per token,   364.49 tokens per second)\n",
      "llama_print_timings:        eval time =    2235.54 ms /    38 runs   (   58.83 ms per token,    17.00 tokens per second)\n",
      "llama_print_timings:       total time =    2955.83 ms /   253 tokens\n",
      "Llama.generate: prefix-match hit\n",
      "\n",
      "llama_print_timings:        load time =     669.84 ms\n",
      "llama_print_timings:      sample time =      70.48 ms /   110 runs   (    0.64 ms per token,  1560.68 tokens per second)\n",
      "llama_print_timings: prompt eval time =     588.70 ms /   208 tokens (    2.83 ms per token,   353.32 tokens per second)\n",
      "llama_print_timings:        eval time =    6316.02 ms /   109 runs   (   57.95 ms per token,    17.26 tokens per second)\n",
      "llama_print_timings:       total time =    7400.23 ms /   317 tokens\n",
      "Llama.generate: prefix-match hit\n",
      "\n",
      "llama_print_timings:        load time =     669.84 ms\n",
      "llama_print_timings:      sample time =      21.69 ms /    38 runs   (    0.57 ms per token,  1751.88 tokens per second)\n",
      "llama_print_timings: prompt eval time =     599.56 ms /   212 tokens (    2.83 ms per token,   353.59 tokens per second)\n",
      "llama_print_timings:        eval time =    2252.41 ms /    37 runs   (   60.88 ms per token,    16.43 tokens per second)\n",
      "llama_print_timings:       total time =    2978.97 ms /   249 tokens\n",
      "Llama.generate: prefix-match hit\n",
      "\n",
      "llama_print_timings:        load time =     669.84 ms\n",
      "llama_print_timings:      sample time =      22.60 ms /    40 runs   (    0.57 ms per token,  1769.91 tokens per second)\n",
      "llama_print_timings: prompt eval time =     595.24 ms /   212 tokens (    2.81 ms per token,   356.16 tokens per second)\n",
      "llama_print_timings:        eval time =    2393.40 ms /    39 runs   (   61.37 ms per token,    16.29 tokens per second)\n",
      "llama_print_timings:       total time =    3121.42 ms /   251 tokens\n",
      "Llama.generate: prefix-match hit\n",
      "\n",
      "llama_print_timings:        load time =     669.84 ms\n",
      "llama_print_timings:      sample time =      26.70 ms /    39 runs   (    0.68 ms per token,  1460.51 tokens per second)\n",
      "llama_print_timings: prompt eval time =     597.98 ms /   205 tokens (    2.92 ms per token,   342.82 tokens per second)\n",
      "llama_print_timings:        eval time =    2173.90 ms /    38 runs   (   57.21 ms per token,    17.48 tokens per second)\n",
      "llama_print_timings:       total time =    2966.74 ms /   243 tokens\n",
      "Llama.generate: prefix-match hit\n",
      "\n",
      "llama_print_timings:        load time =     669.84 ms\n",
      "llama_print_timings:      sample time =      24.56 ms /    38 runs   (    0.65 ms per token,  1547.29 tokens per second)\n",
      "llama_print_timings: prompt eval time =     600.87 ms /   209 tokens (    2.87 ms per token,   347.83 tokens per second)\n",
      "llama_print_timings:        eval time =    2181.90 ms /    37 runs   (   58.97 ms per token,    16.96 tokens per second)\n",
      "llama_print_timings:       total time =    2957.47 ms /   246 tokens\n",
      "Llama.generate: prefix-match hit\n",
      "\n",
      "llama_print_timings:        load time =     669.84 ms\n",
      "llama_print_timings:      sample time =      84.34 ms /   145 runs   (    0.58 ms per token,  1719.13 tokens per second)\n",
      "llama_print_timings: prompt eval time =     591.49 ms /   201 tokens (    2.94 ms per token,   339.82 tokens per second)\n",
      "llama_print_timings:        eval time =    8830.51 ms /   144 runs   (   61.32 ms per token,    16.31 tokens per second)\n",
      "llama_print_timings:       total time =    9957.31 ms /   345 tokens\n",
      "Llama.generate: prefix-match hit\n",
      "\n",
      "llama_print_timings:        load time =     669.84 ms\n",
      "llama_print_timings:      sample time =     165.10 ms /   287 runs   (    0.58 ms per token,  1738.33 tokens per second)\n",
      "llama_print_timings: prompt eval time =     604.20 ms /   207 tokens (    2.92 ms per token,   342.60 tokens per second)\n",
      "llama_print_timings:        eval time =   17873.83 ms /   286 runs   (   62.50 ms per token,    16.00 tokens per second)\n",
      "llama_print_timings:       total time =   19725.57 ms /   493 tokens\n",
      "Llama.generate: prefix-match hit\n",
      "\n",
      "llama_print_timings:        load time =     669.84 ms\n",
      "llama_print_timings:      sample time =      73.03 ms /   122 runs   (    0.60 ms per token,  1670.59 tokens per second)\n",
      "llama_print_timings: prompt eval time =     622.11 ms /   200 tokens (    3.11 ms per token,   321.49 tokens per second)\n",
      "llama_print_timings:        eval time =    7824.56 ms /   121 runs   (   64.67 ms per token,    15.46 tokens per second)\n",
      "llama_print_timings:       total time =    8939.50 ms /   321 tokens\n",
      "Llama.generate: prefix-match hit\n",
      "\n",
      "llama_print_timings:        load time =     669.84 ms\n",
      "llama_print_timings:      sample time =      67.31 ms /   114 runs   (    0.59 ms per token,  1693.68 tokens per second)\n",
      "llama_print_timings: prompt eval time =     617.49 ms /   201 tokens (    3.07 ms per token,   325.51 tokens per second)\n",
      "llama_print_timings:        eval time =    7554.00 ms /   113 runs   (   66.85 ms per token,    14.96 tokens per second)\n",
      "llama_print_timings:       total time =    8593.63 ms /   314 tokens\n",
      "Llama.generate: prefix-match hit\n",
      "\n",
      "llama_print_timings:        load time =     669.84 ms\n",
      "llama_print_timings:      sample time =      82.43 ms /   129 runs   (    0.64 ms per token,  1564.93 tokens per second)\n",
      "llama_print_timings: prompt eval time =     893.50 ms /   357 tokens (    2.50 ms per token,   399.55 tokens per second)\n",
      "llama_print_timings:        eval time =    8838.22 ms /   128 runs   (   69.05 ms per token,    14.48 tokens per second)\n",
      "llama_print_timings:       total time =   10279.86 ms /   485 tokens\n",
      "Llama.generate: prefix-match hit\n",
      "\n",
      "llama_print_timings:        load time =     669.84 ms\n",
      "llama_print_timings:      sample time =      79.88 ms /   129 runs   (    0.62 ms per token,  1614.90 tokens per second)\n",
      "llama_print_timings: prompt eval time =    1063.18 ms /   469 tokens (    2.27 ms per token,   441.13 tokens per second)\n",
      "llama_print_timings:        eval time =    9348.38 ms /   128 runs   (   73.03 ms per token,    13.69 tokens per second)\n",
      "llama_print_timings:       total time =   10988.02 ms /   597 tokens\n"
     ]
    },
    {
     "name": "stdout",
     "output_type": "stream",
     "text": [
      "Time taken  147.21906876564026\n"
     ]
    }
   ],
   "source": [
    "start = time.time()\n",
    "#Applying the ticket tags generation function\n",
    "data_1['model_response_tag'] = data_1[['support_ticket_text','Category']].apply(lambda x: response_2(prompt_2,x[0],x[1]),axis=1)\n",
    "end = time.time()\n",
    "print(\"Time taken \",(end-start))"
   ]
  },
  {
   "cell_type": "code",
   "execution_count": null,
   "metadata": {
    "colab": {
     "base_uri": "https://localhost:8080/"
    },
    "id": "e3kSjOQaD3_L",
    "outputId": "7d4294c4-5f64-4b62-8b6c-640014e7187b"
   },
   "outputs": [
    {
     "data": {
      "text/plain": [
       "0     \\n    Sure! Here's my analysis of the support ...\n",
       "1     \\n    Sure, I can do that! Based on the suppor...\n",
       "2     \\n    Sure! Here is the JSON object based on t...\n",
       "3     \\n    Sure! Here's the JSON object based on th...\n",
       "4     \\n    Sure! Here's the JSON object based on th...\n",
       "5     \\n    Sure, I can help you with that! Based on...\n",
       "6     \\n    Sure! Here's the JSON object based on th...\n",
       "7      Sure! Here is the JSON object based on the in...\n",
       "8     \\n    Sure, I can help you with that! Based on...\n",
       "9     \\n    Sure! Here's the JSON object based on th...\n",
       "10    \\n    Sure, I'd be happy to help! Based on the...\n",
       "11    \\n    Sure! Here is the JSON object based on t...\n",
       "12    \\n    Sure! Here is the JSON object based on t...\n",
       "13    \\n    Sure! Here's the JSON object based on th...\n",
       "14    \\n    Sure! Here's the JSON object for the giv...\n",
       "15    \\n    Sure! Here's the JSON object based on th...\n",
       "16    \\n    Sure, I'd be happy to help! Based on the...\n",
       "17    \\n    Sure, I'd be happy to help! Based on the...\n",
       "18    \\n    Sure! Here is the JSON object based on t...\n",
       "19    \\n    Sure! Here is the JSON object based on t...\n",
       "20     Sure! Here is the JSON object based on the su...\n",
       "Name: model_response_tag, dtype: object"
      ]
     },
     "execution_count": 26,
     "metadata": {},
     "output_type": "execute_result"
    }
   ],
   "source": [
    "#Printing the model's raw response\n",
    "data_1['model_response_tag']"
   ]
  },
  {
   "cell_type": "code",
   "execution_count": null,
   "metadata": {
    "colab": {
     "base_uri": "https://localhost:8080/",
     "height": 104
    },
    "id": "CvBucZDnfh-4",
    "outputId": "e9736206-3e5f-44f4-d2ab-35ed3c26e028"
   },
   "outputs": [
    {
     "data": {
      "application/vnd.google.colaboratory.intrinsic+json": {
       "type": "string"
      },
      "text/plain": [
       "'\\n    Sure! Here\\'s my analysis of the support ticket based on its description and category:\\n    \\n    {\"Tag\": \"Internet Connectivity Issues, Disconnections\"}\\n    \\n    Based on the description of frequent disconnections and a significant slowdown of the internet connection over the past two days, I have identified the following issues:\\n    \\n    - Internet Connectivity Issues\\n    - Disconnections\\n    \\n    These issues are likely related to each other and may be caused by a variety of factors such as network congestion, ISP issues, or hardware problems.'"
      ]
     },
     "execution_count": 27,
     "metadata": {},
     "output_type": "execute_result"
    }
   ],
   "source": [
    "data_1['model_response_tag'][0]"
   ]
  },
  {
   "cell_type": "code",
   "execution_count": null,
   "metadata": {
    "colab": {
     "base_uri": "https://localhost:8080/"
    },
    "id": "gg-zUpzxD3_M",
    "outputId": "8954a824-9d59-4020-b860-cccebfe23044"
   },
   "outputs": [
    {
     "data": {
      "text/plain": [
       "0     {'Tag': 'Internet Connectivity Issues, Disconn...\n",
       "1     {'Tag': 'Hardware Failure, Urgent Assistance R...\n",
       "2                {'Tag': 'Data Loss, Priority Request'}\n",
       "3     {'Tag': 'Weak Wi-Fi Signal, Troubleshooting Is...\n",
       "4             {'Tag': 'Battery Drain, Rapid Discharge'}\n",
       "5     {'Tag': 'urgent transaction, password reset, l...\n",
       "6          {'Tag': 'performance_issues, slow_computer'}\n",
       "7          {'Tag': 'blue_screen_error, hardware_issue'}\n",
       "8             {'Tag': 'Data Recovery, Hardware Issues'}\n",
       "9     {'Tag': 'Hardware Issue, Graphics Card Malfunc...\n",
       "10                 {'Tag': 'Data Loss, File Retrieval'}\n",
       "11              {'Tag': 'Hardware Issue, Black Screen'}\n",
       "12               {'Tag': 'Water Damage, Data Recovery'}\n",
       "13            {'Tag': 'Physical Damage, File Recovery'}\n",
       "14            {'Tag': 'hardware_issue, touchpad_issue'}\n",
       "15    {'Tag': 'InternetConnectionDropouts, WorkInter...\n",
       "16    {'Tag': 'Wi-Fi consistency, connectivity issue...\n",
       "17          {'Tag': 'Data Recovery, Accidental Format'}\n",
       "18            {'Tag': 'Data Recovery, Hardware Issues'}\n",
       "19    {'Tag': 'Internet Connectivity Issues, Product...\n",
       "Name: model_response_tag_parsed, dtype: object"
      ]
     },
     "execution_count": 28,
     "metadata": {},
     "output_type": "execute_result"
    }
   ],
   "source": [
    "#Parsing the JSON data from the model's response\n",
    "data_1['model_response_tag_parsed'] = data_1['model_response_tag'].apply(extract_json_data)\n",
    "data_1['model_response_tag_parsed'].head(20)"
   ]
  },
  {
   "cell_type": "code",
   "execution_count": null,
   "metadata": {
    "id": "DAwusRibD3_Z"
   },
   "outputs": [],
   "source": [
    "#Parsing the value field from the JSON key value pair\n",
    "data_1['Tag']=pd.json_normalize(data_1['model_response_tag_parsed'])"
   ]
  },
  {
   "cell_type": "code",
   "execution_count": null,
   "metadata": {
    "id": "WuJSiaVlD3_Z"
   },
   "outputs": [],
   "source": [
    "#Dropping the unwanted columns\n",
    "data_1.drop(columns=['model_response_tag','model_response_tag_parsed'], inplace=True)"
   ]
  },
  {
   "cell_type": "code",
   "execution_count": null,
   "metadata": {
    "colab": {
     "base_uri": "https://localhost:8080/"
    },
    "id": "5ODNh7BBLi0w",
    "outputId": "7962d348-e835-4fad-df97-11fe5d09c1a6"
   },
   "outputs": [
    {
     "data": {
      "text/plain": [
       "0          Internet Connectivity Issues, Disconnections\n",
       "1          Hardware Failure, Urgent Assistance Required\n",
       "2                           Data Loss, Priority Request\n",
       "3             Weak Wi-Fi Signal, Troubleshooting Issues\n",
       "4                        Battery Drain, Rapid Discharge\n",
       "5           urgent transaction, password reset, lockout\n",
       "6                     performance_issues, slow_computer\n",
       "7                     blue_screen_error, hardware_issue\n",
       "8                        Data Recovery, Hardware Issues\n",
       "9             Hardware Issue, Graphics Card Malfunction\n",
       "10                            Data Loss, File Retrieval\n",
       "11                         Hardware Issue, Black Screen\n",
       "12                          Water Damage, Data Recovery\n",
       "13                       Physical Damage, File Recovery\n",
       "14                       hardware_issue, touchpad_issue\n",
       "15         InternetConnectionDropouts, WorkInterruption\n",
       "16    Wi-Fi consistency, connectivity issues, work p...\n",
       "17                     Data Recovery, Accidental Format\n",
       "18                       Data Recovery, Hardware Issues\n",
       "19      Internet Connectivity Issues, Productivity Loss\n",
       "20                            Software Issue, Data Loss\n",
       "Name: Tag, dtype: object"
      ]
     },
     "execution_count": 31,
     "metadata": {},
     "output_type": "execute_result"
    }
   ],
   "source": [
    "data_1['Tag']"
   ]
  },
  {
   "cell_type": "code",
   "execution_count": null,
   "metadata": {
    "id": "9bcJRIY2dNcQ"
   },
   "outputs": [],
   "source": [
    "#Defining a function to generate ticket priority based on the support ticket, ticket category, ticket tag and user's prompt\n",
    "def response_3(instruction, ticket,category,tag):\n",
    "\n",
    "    system_message = \"\"\"\n",
    "        [INST]<<SYS>>\n",
    "        {}\n",
    "        <</SYS>>[/INST]\n",
    "    \"\"\".format(instruction)\n",
    "\n",
    "    # Combining the support ticket, category, tags and user_prompt to create the prompt\n",
    "    prompt = f\"Support Ticket: {ticket}\\nCategory: {category}\\nTag:{tag}\\n{system_message}\"\n",
    "\n",
    "    response = lcpp_llm(\n",
    "        prompt=prompt, # Final prompt to the model\n",
    "        max_tokens=1024, # the maximum number of tokens that the model should generate\n",
    "        temperature=0, # controls the randomness of the generated response\n",
    "        top_p=0.95, # controls the diversity of the generated response by establishing a cumulative probability cutoff for token selection\n",
    "        repeat_penalty=1.2, # controls the penalty for repeating tokens in the generated response\n",
    "        top_k=50, # controls the maximum number of most-likely next tokens to consider\n",
    "        stop=['INST'], # list of tokens that are used to dynamically stop response generation\n",
    "        echo=False, # controls whether the input (prompt) to the model should be returned\n",
    "        seed=42, # specifies a seed value that helps replicate results\n",
    "    )\n",
    "\n",
    "    # Extracting the model's response\n",
    "    response_text = response[\"choices\"][0][\"text\"]\n",
    "    return response_text"
   ]
  },
  {
   "cell_type": "code",
   "execution_count": null,
   "metadata": {
    "colab": {
     "base_uri": "https://localhost:8080/"
    },
    "id": "J1ZAJZxEE45S",
    "outputId": "0366bc21-23eb-4ab6-85ac-003dd6ab99d2"
   },
   "outputs": [
    {
     "name": "stderr",
     "output_type": "stream",
     "text": [
      "Llama.generate: prefix-match hit\n",
      "\n",
      "llama_print_timings:        load time =     669.84 ms\n",
      "llama_print_timings:      sample time =      82.68 ms /   132 runs   (    0.63 ms per token,  1596.59 tokens per second)\n",
      "llama_print_timings: prompt eval time =     654.33 ms /   218 tokens (    3.00 ms per token,   333.16 tokens per second)\n",
      "llama_print_timings:        eval time =    9960.12 ms /   131 runs   (   76.03 ms per token,    13.15 tokens per second)\n",
      "llama_print_timings:       total time =   11156.80 ms /   349 tokens\n",
      "Llama.generate: prefix-match hit\n",
      "\n",
      "llama_print_timings:        load time =     669.84 ms\n",
      "llama_print_timings:      sample time =       9.80 ms /    16 runs   (    0.61 ms per token,  1632.49 tokens per second)\n",
      "llama_print_timings: prompt eval time =     731.76 ms /   218 tokens (    3.36 ms per token,   297.91 tokens per second)\n",
      "llama_print_timings:        eval time =    1148.70 ms /    15 runs   (   76.58 ms per token,    13.06 tokens per second)\n",
      "llama_print_timings:       total time =    1946.25 ms /   233 tokens\n",
      "Llama.generate: prefix-match hit\n",
      "\n",
      "llama_print_timings:        load time =     669.84 ms\n",
      "llama_print_timings:      sample time =      78.76 ms /   129 runs   (    0.61 ms per token,  1637.80 tokens per second)\n",
      "llama_print_timings: prompt eval time =     726.65 ms /   209 tokens (    3.48 ms per token,   287.62 tokens per second)\n",
      "llama_print_timings:        eval time =    9909.31 ms /   128 runs   (   77.42 ms per token,    12.92 tokens per second)\n",
      "llama_print_timings:       total time =   11146.26 ms /   337 tokens\n",
      "Llama.generate: prefix-match hit\n",
      "\n",
      "llama_print_timings:        load time =     669.84 ms\n",
      "llama_print_timings:      sample time =      71.48 ms /   129 runs   (    0.55 ms per token,  1804.78 tokens per second)\n",
      "llama_print_timings: prompt eval time =     699.82 ms /   229 tokens (    3.06 ms per token,   327.23 tokens per second)\n",
      "llama_print_timings:        eval time =    9555.02 ms /   128 runs   (   74.65 ms per token,    13.40 tokens per second)\n",
      "llama_print_timings:       total time =   10726.80 ms /   357 tokens\n",
      "Llama.generate: prefix-match hit\n",
      "\n",
      "llama_print_timings:        load time =     669.84 ms\n",
      "llama_print_timings:      sample time =     145.70 ms /   236 runs   (    0.62 ms per token,  1619.76 tokens per second)\n",
      "llama_print_timings: prompt eval time =     670.34 ms /   198 tokens (    3.39 ms per token,   295.37 tokens per second)\n",
      "llama_print_timings:        eval time =   16634.12 ms /   235 runs   (   70.78 ms per token,    14.13 tokens per second)\n",
      "llama_print_timings:       total time =   18308.20 ms /   433 tokens\n",
      "Llama.generate: prefix-match hit\n",
      "\n",
      "llama_print_timings:        load time =     669.84 ms\n",
      "llama_print_timings:      sample time =      17.09 ms /    31 runs   (    0.55 ms per token,  1814.46 tokens per second)\n",
      "llama_print_timings: prompt eval time =     652.76 ms /   194 tokens (    3.36 ms per token,   297.20 tokens per second)\n",
      "llama_print_timings:        eval time =    2131.46 ms /    30 runs   (   71.05 ms per token,    14.07 tokens per second)\n",
      "llama_print_timings:       total time =    2882.47 ms /   224 tokens\n",
      "Llama.generate: prefix-match hit\n",
      "\n",
      "llama_print_timings:        load time =     669.84 ms\n",
      "llama_print_timings:      sample time =      61.07 ms /   101 runs   (    0.60 ms per token,  1653.73 tokens per second)\n",
      "llama_print_timings: prompt eval time =     650.85 ms /   197 tokens (    3.30 ms per token,   302.68 tokens per second)\n",
      "llama_print_timings:        eval time =    7151.41 ms /   100 runs   (   71.51 ms per token,    13.98 tokens per second)\n",
      "llama_print_timings:       total time =    8176.16 ms /   297 tokens\n",
      "Llama.generate: prefix-match hit\n",
      "\n",
      "llama_print_timings:        load time =     669.84 ms\n",
      "llama_print_timings:      sample time =      64.75 ms /   110 runs   (    0.59 ms per token,  1698.74 tokens per second)\n",
      "llama_print_timings: prompt eval time =     657.58 ms /   198 tokens (    3.32 ms per token,   301.10 tokens per second)\n",
      "llama_print_timings:        eval time =    7936.70 ms /   109 runs   (   72.81 ms per token,    13.73 tokens per second)\n",
      "llama_print_timings:       total time =    9009.74 ms /   307 tokens\n",
      "Llama.generate: prefix-match hit\n",
      "\n",
      "llama_print_timings:        load time =     669.84 ms\n",
      "llama_print_timings:      sample time =      81.81 ms /   134 runs   (    0.61 ms per token,  1637.84 tokens per second)\n",
      "llama_print_timings: prompt eval time =     674.07 ms /   191 tokens (    3.53 ms per token,   283.35 tokens per second)\n",
      "llama_print_timings:        eval time =    9945.03 ms /   133 runs   (   74.77 ms per token,    13.37 tokens per second)\n",
      "llama_print_timings:       total time =   11153.78 ms /   324 tokens\n",
      "Llama.generate: prefix-match hit\n",
      "\n",
      "llama_print_timings:        load time =     669.84 ms\n",
      "llama_print_timings:      sample time =      64.91 ms /   107 runs   (    0.61 ms per token,  1648.41 tokens per second)\n",
      "llama_print_timings: prompt eval time =     681.35 ms /   201 tokens (    3.39 ms per token,   295.00 tokens per second)\n",
      "llama_print_timings:        eval time =    7951.41 ms /   106 runs   (   75.01 ms per token,    13.33 tokens per second)\n",
      "llama_print_timings:       total time =    9068.81 ms /   307 tokens\n",
      "Llama.generate: prefix-match hit\n",
      "\n",
      "llama_print_timings:        load time =     669.84 ms\n",
      "llama_print_timings:      sample time =      31.80 ms /    55 runs   (    0.58 ms per token,  1729.83 tokens per second)\n",
      "llama_print_timings: prompt eval time =     688.18 ms /   192 tokens (    3.58 ms per token,   279.00 tokens per second)\n",
      "llama_print_timings:        eval time =    4075.99 ms /    54 runs   (   75.48 ms per token,    13.25 tokens per second)\n",
      "llama_print_timings:       total time =    4947.83 ms /   246 tokens\n",
      "Llama.generate: prefix-match hit\n",
      "\n",
      "llama_print_timings:        load time =     669.84 ms\n",
      "llama_print_timings:      sample time =      71.66 ms /   123 runs   (    0.58 ms per token,  1716.46 tokens per second)\n",
      "llama_print_timings: prompt eval time =     678.31 ms /   196 tokens (    3.46 ms per token,   288.96 tokens per second)\n",
      "llama_print_timings:        eval time =    9088.82 ms /   122 runs   (   74.50 ms per token,    13.42 tokens per second)\n",
      "llama_print_timings:       total time =   10262.25 ms /   318 tokens\n",
      "Llama.generate: prefix-match hit\n",
      "\n",
      "llama_print_timings:        load time =     669.84 ms\n",
      "llama_print_timings:      sample time =      71.59 ms /   126 runs   (    0.57 ms per token,  1760.07 tokens per second)\n",
      "llama_print_timings: prompt eval time =     671.81 ms /   197 tokens (    3.41 ms per token,   293.24 tokens per second)\n",
      "llama_print_timings:        eval time =    9248.62 ms /   125 runs   (   73.99 ms per token,    13.52 tokens per second)\n",
      "llama_print_timings:       total time =   10369.83 ms /   322 tokens\n",
      "Llama.generate: prefix-match hit\n",
      "\n",
      "llama_print_timings:        load time =     669.84 ms\n",
      "llama_print_timings:      sample time =      72.07 ms /   126 runs   (    0.57 ms per token,  1748.37 tokens per second)\n",
      "llama_print_timings: prompt eval time =     669.84 ms /   190 tokens (    3.53 ms per token,   283.65 tokens per second)\n",
      "llama_print_timings:        eval time =    9094.89 ms /   125 runs   (   72.76 ms per token,    13.74 tokens per second)\n",
      "llama_print_timings:       total time =   10218.09 ms /   315 tokens\n",
      "Llama.generate: prefix-match hit\n",
      "\n",
      "llama_print_timings:        load time =     669.84 ms\n",
      "llama_print_timings:      sample time =      67.57 ms /   107 runs   (    0.63 ms per token,  1583.54 tokens per second)\n",
      "llama_print_timings: prompt eval time =     664.81 ms /   195 tokens (    3.41 ms per token,   293.32 tokens per second)\n",
      "llama_print_timings:        eval time =    7627.49 ms /   106 runs   (   71.96 ms per token,    13.90 tokens per second)\n",
      "llama_print_timings:       total time =    8743.24 ms /   301 tokens\n",
      "Llama.generate: prefix-match hit\n",
      "\n",
      "llama_print_timings:        load time =     669.84 ms\n",
      "llama_print_timings:      sample time =      94.19 ms /   154 runs   (    0.61 ms per token,  1634.98 tokens per second)\n",
      "llama_print_timings: prompt eval time =     669.71 ms /   186 tokens (    3.60 ms per token,   277.73 tokens per second)\n",
      "llama_print_timings:        eval time =   11202.51 ms /   153 runs   (   73.22 ms per token,    13.66 tokens per second)\n",
      "llama_print_timings:       total time =   12477.71 ms /   339 tokens\n",
      "Llama.generate: prefix-match hit\n",
      "\n",
      "llama_print_timings:        load time =     669.84 ms\n",
      "llama_print_timings:      sample time =      70.00 ms /   125 runs   (    0.56 ms per token,  1785.64 tokens per second)\n",
      "llama_print_timings: prompt eval time =     682.65 ms /   198 tokens (    3.45 ms per token,   290.05 tokens per second)\n",
      "llama_print_timings:        eval time =    9165.04 ms /   124 runs   (   73.91 ms per token,    13.53 tokens per second)\n",
      "llama_print_timings:       total time =   10339.49 ms /   322 tokens\n",
      "Llama.generate: prefix-match hit\n",
      "\n",
      "llama_print_timings:        load time =     669.84 ms\n",
      "llama_print_timings:      sample time =      55.11 ms /    93 runs   (    0.59 ms per token,  1687.44 tokens per second)\n",
      "llama_print_timings: prompt eval time =     666.52 ms /   185 tokens (    3.60 ms per token,   277.56 tokens per second)\n",
      "llama_print_timings:        eval time =    6864.57 ms /    92 runs   (   74.61 ms per token,    13.40 tokens per second)\n",
      "llama_print_timings:       total time =    7853.33 ms /   277 tokens\n",
      "Llama.generate: prefix-match hit\n",
      "\n",
      "llama_print_timings:        load time =     669.84 ms\n",
      "llama_print_timings:      sample time =      80.51 ms /   134 runs   (    0.60 ms per token,  1664.35 tokens per second)\n",
      "llama_print_timings: prompt eval time =     673.33 ms /   186 tokens (    3.62 ms per token,   276.24 tokens per second)\n",
      "llama_print_timings:        eval time =    9944.20 ms /   133 runs   (   74.77 ms per token,    13.37 tokens per second)\n",
      "llama_print_timings:       total time =   11148.67 ms /   319 tokens\n",
      "Llama.generate: prefix-match hit\n",
      "\n",
      "llama_print_timings:        load time =     669.84 ms\n",
      "llama_print_timings:      sample time =      30.35 ms /    54 runs   (    0.56 ms per token,  1779.18 tokens per second)\n",
      "llama_print_timings: prompt eval time =     953.76 ms /   344 tokens (    2.77 ms per token,   360.68 tokens per second)\n",
      "llama_print_timings:        eval time =    4049.92 ms /    53 runs   (   76.41 ms per token,    13.09 tokens per second)\n",
      "llama_print_timings:       total time =    5180.61 ms /   397 tokens\n",
      "Llama.generate: prefix-match hit\n",
      "\n",
      "llama_print_timings:        load time =     669.84 ms\n",
      "llama_print_timings:      sample time =     171.43 ms /   280 runs   (    0.61 ms per token,  1633.30 tokens per second)\n",
      "llama_print_timings: prompt eval time =    1089.58 ms /   453 tokens (    2.41 ms per token,   415.76 tokens per second)\n",
      "llama_print_timings:        eval time =   21175.82 ms /   279 runs   (   75.90 ms per token,    13.18 tokens per second)\n",
      "llama_print_timings:       total time =   23536.01 ms /   732 tokens\n"
     ]
    },
    {
     "name": "stdout",
     "output_type": "stream",
     "text": [
      "Time taken  208.96314239501953\n"
     ]
    }
   ],
   "source": [
    "#Promt for generating ticket priority\n",
    "prompt_3 = \"\"\"\n",
    "    You are an AI analyzing support tickets. You are given support ticket description, category and the tags assigned for the issue.\n",
    "    Based on these classify the priority of the ticket into the following categories:\n",
    "    - High\n",
    "    - Medium\n",
    "    - Low\n",
    "\n",
    "    In case priority cannot be assigned, return \"Not Applicable\" (including quotes) for the corresponding JSON key value.\n",
    "    Format the output as a JSON object with a single key-value pair as shown below:\n",
    "    {\"priority\": \"your_priority_prediction\"}\n",
    "\n",
    "    \"\"\"\n",
    "\n",
    "start = time.time()\n",
    "#Applying the ticket priority generation function\n",
    "data_1['model_response_priority'] = data_1[['support_ticket_text','Category','Tag']].apply(lambda x: response_3(prompt_3,x[0],x[1],x[2]),axis=1)\n",
    "end = time.time()\n",
    "print(\"Time taken \",(end-start))"
   ]
  },
  {
   "cell_type": "code",
   "execution_count": null,
   "metadata": {
    "id": "6WMaZYdxE42p"
   },
   "outputs": [],
   "source": []
  },
  {
   "cell_type": "code",
   "execution_count": null,
   "metadata": {
    "colab": {
     "base_uri": "https://localhost:8080/",
     "height": 104
    },
    "id": "j9kiIAGJQJl1",
    "outputId": "d868ca9a-1403-4fdd-fa76-09c782af5bcb"
   },
   "outputs": [
    {
     "data": {
      "application/vnd.google.colaboratory.intrinsic+json": {
       "type": "string"
      },
      "text/plain": [
       "' Sure! I\\'d be happy to help classify the priority of the support ticket based on the information provided. Here\\'s my analysis:\\n\\nBased on the description of the ticket, the frequency of disconnections and the significant slowdown of the internet connection suggest a critical impact on the user\\'s ability to work efficiently. The tags assigned to the ticket also indicate that this is an internet connectivity issue. Considering these factors, I would classify the priority of this ticket as \"High\".\\n\\nHere\\'s my output as a JSON object with a single key-value pair:\\n{\"priority\": \"High\"}'"
      ]
     },
     "execution_count": 34,
     "metadata": {},
     "output_type": "execute_result"
    }
   ],
   "source": [
    "#Printing the model's raw response\n",
    "data_1['model_response_priority'][0]"
   ]
  },
  {
   "cell_type": "code",
   "execution_count": null,
   "metadata": {
    "colab": {
     "base_uri": "https://localhost:8080/"
    },
    "id": "YvBKUd4QFz3A",
    "outputId": "c0d34917-2d38-4415-d770-fa3aee5a37c9"
   },
   "outputs": [
    {
     "data": {
      "text/plain": [
       "0      {'priority': 'High'}\n",
       "1      {'priority': 'High'}\n",
       "2      {'priority': 'High'}\n",
       "3    {'priority': 'Medium'}\n",
       "4    {'priority': 'Medium'}\n",
       "Name: model_response_priority_parsed, dtype: object"
      ]
     },
     "execution_count": 35,
     "metadata": {},
     "output_type": "execute_result"
    }
   ],
   "source": [
    "#Parsing the JSON data from the model's response\n",
    "data_1['model_response_priority_parsed'] = data_1['model_response_priority'].apply(extract_json_data)\n",
    "data_1['model_response_priority_parsed'].head()"
   ]
  },
  {
   "cell_type": "code",
   "execution_count": null,
   "metadata": {
    "id": "yKucMkI5Fz3B"
   },
   "outputs": [],
   "source": [
    "#Parsing the value field from the JSON key value pair\n",
    "data_1['Priority']=pd.json_normalize(data_1['model_response_priority_parsed'])"
   ]
  },
  {
   "cell_type": "code",
   "execution_count": null,
   "metadata": {
    "colab": {
     "base_uri": "https://localhost:8080/"
    },
    "id": "jpnpU6gFQJcL",
    "outputId": "45ebccc5-c09a-4212-e77a-1d716db38d33"
   },
   "outputs": [
    {
     "data": {
      "text/plain": [
       "0       High\n",
       "1       High\n",
       "2       High\n",
       "3     Medium\n",
       "4     Medium\n",
       "5       High\n",
       "6     Medium\n",
       "7     Medium\n",
       "8     Medium\n",
       "9       High\n",
       "10    Medium\n",
       "11      High\n",
       "12    Medium\n",
       "13    Medium\n",
       "14    Medium\n",
       "15      High\n",
       "16    Medium\n",
       "17    Medium\n",
       "18    Medium\n",
       "19      High\n",
       "20    Medium\n",
       "Name: Priority, dtype: object"
      ]
     },
     "execution_count": 37,
     "metadata": {},
     "output_type": "execute_result"
    }
   ],
   "source": [
    "data_1['Priority']"
   ]
  },
  {
   "cell_type": "code",
   "execution_count": null,
   "metadata": {
    "id": "T5Bg9vUzzEVd"
   },
   "outputs": [],
   "source": [
    "#Dropping the unwanted columns\n",
    "data_1.drop(columns=['model_response_priority','model_response_priority_parsed'], inplace=True)"
   ]
  },
  {
   "cell_type": "code",
   "execution_count": null,
   "metadata": {
    "id": "_nFNlkf4E4zw"
   },
   "outputs": [],
   "source": [
    "#Defining a function to generate ticket ETA based on the support ticket, ticket category, ticket tag, priority and user's prompt\n",
    "def response_4(instruction, ticket,category,tag,priority):\n",
    "\n",
    "    system_message = \"\"\"\n",
    "        [INST]<<SYS>>\n",
    "        {}\n",
    "        <</SYS>>[/INST]\n",
    "    \"\"\".format(instruction)\n",
    "\n",
    "    # Combining the support ticket, category, tags, priority and user_prompt to create the prompt\n",
    "    prompt = f\"Support Ticket: {ticket}\\nCategory: {category}\\nTag:{tag}\\nPriority: {priority}\\n{system_message}\"\n",
    "\n",
    "    # Generate a response from the LLaMA model\n",
    "    response = lcpp_llm(\n",
    "        prompt=prompt, # Final prompt to the model\n",
    "        max_tokens=1024, # the maximum number of tokens that the model should generate\n",
    "        temperature=0, # controls the randomness of the generated response\n",
    "        top_p=0.95, # controls the diversity of the generated response by establishing a cumulative probability cutoff for token selection\n",
    "        repeat_penalty=1.2, # controls the penalty for repeating tokens in the generated response\n",
    "        top_k=50, # controls the maximum number of most-likely next tokens to consider\n",
    "        stop=['INST'], # list of tokens that are used to dynamically stop response generation\n",
    "        echo=False, # controls whether the input (prompt) to the model should be returned\n",
    "        seed=42, # specifies a seed value that helps replicate results\n",
    "    )\n",
    "\n",
    "    # Extracting the model's response\n",
    "    response_text = response[\"choices\"][0][\"text\"]\n",
    "    return response_text"
   ]
  },
  {
   "cell_type": "code",
   "execution_count": null,
   "metadata": {
    "colab": {
     "base_uri": "https://localhost:8080/"
    },
    "id": "VKieNHAWxWAr",
    "outputId": "f1015369-011b-42a2-fee3-2ad31f106b79"
   },
   "outputs": [
    {
     "name": "stderr",
     "output_type": "stream",
     "text": [
      "Llama.generate: prefix-match hit\n",
      "\n",
      "llama_print_timings:        load time =     669.84 ms\n",
      "llama_print_timings:      sample time =     121.60 ms /   193 runs   (    0.63 ms per token,  1587.17 tokens per second)\n",
      "llama_print_timings: prompt eval time =     802.74 ms /   267 tokens (    3.01 ms per token,   332.61 tokens per second)\n",
      "llama_print_timings:        eval time =   14103.62 ms /   192 runs   (   73.46 ms per token,    13.61 tokens per second)\n",
      "llama_print_timings:       total time =   15737.01 ms /   459 tokens\n",
      "Llama.generate: prefix-match hit\n",
      "\n",
      "llama_print_timings:        load time =     669.84 ms\n",
      "llama_print_timings:      sample time =     141.30 ms /   226 runs   (    0.63 ms per token,  1599.41 tokens per second)\n",
      "llama_print_timings: prompt eval time =     846.63 ms /   267 tokens (    3.17 ms per token,   315.37 tokens per second)\n",
      "llama_print_timings:        eval time =   16442.73 ms /   225 runs   (   73.08 ms per token,    13.68 tokens per second)\n",
      "llama_print_timings:       total time =   18274.03 ms /   492 tokens\n",
      "Llama.generate: prefix-match hit\n",
      "\n",
      "llama_print_timings:        load time =     669.84 ms\n",
      "llama_print_timings:      sample time =      90.56 ms /   150 runs   (    0.60 ms per token,  1656.31 tokens per second)\n",
      "llama_print_timings: prompt eval time =     846.65 ms /   258 tokens (    3.28 ms per token,   304.73 tokens per second)\n",
      "llama_print_timings:        eval time =   11023.59 ms /   149 runs   (   73.98 ms per token,    13.52 tokens per second)\n",
      "llama_print_timings:       total time =   12450.50 ms /   407 tokens\n",
      "Llama.generate: prefix-match hit\n",
      "\n",
      "llama_print_timings:        load time =     669.84 ms\n",
      "llama_print_timings:      sample time =      44.37 ms /    77 runs   (    0.58 ms per token,  1735.29 tokens per second)\n",
      "llama_print_timings: prompt eval time =     883.65 ms /   279 tokens (    3.17 ms per token,   315.73 tokens per second)\n",
      "llama_print_timings:        eval time =    5625.89 ms /    76 runs   (   74.02 ms per token,    13.51 tokens per second)\n",
      "llama_print_timings:       total time =    6799.58 ms /   355 tokens\n",
      "Llama.generate: prefix-match hit\n",
      "\n",
      "llama_print_timings:        load time =     669.84 ms\n",
      "llama_print_timings:      sample time =      93.92 ms /   156 runs   (    0.60 ms per token,  1660.97 tokens per second)\n",
      "llama_print_timings: prompt eval time =     710.22 ms /   248 tokens (    2.86 ms per token,   349.19 tokens per second)\n",
      "llama_print_timings:        eval time =   11408.16 ms /   155 runs   (   73.60 ms per token,    13.59 tokens per second)\n",
      "llama_print_timings:       total time =   12753.18 ms /   403 tokens\n",
      "Llama.generate: prefix-match hit\n",
      "\n",
      "llama_print_timings:        load time =     669.84 ms\n",
      "llama_print_timings:      sample time =      27.84 ms /    51 runs   (    0.55 ms per token,  1831.83 tokens per second)\n",
      "llama_print_timings: prompt eval time =     701.42 ms /   243 tokens (    2.89 ms per token,   346.44 tokens per second)\n",
      "llama_print_timings:        eval time =    3719.14 ms /    50 runs   (   74.38 ms per token,    13.44 tokens per second)\n",
      "llama_print_timings:       total time =    4589.62 ms /   293 tokens\n",
      "Llama.generate: prefix-match hit\n",
      "\n",
      "llama_print_timings:        load time =     669.84 ms\n",
      "llama_print_timings:      sample time =      35.56 ms /    52 runs   (    0.68 ms per token,  1462.28 tokens per second)\n",
      "llama_print_timings: prompt eval time =     717.31 ms /   247 tokens (    2.90 ms per token,   344.34 tokens per second)\n",
      "llama_print_timings:        eval time =    3693.47 ms /    51 runs   (   72.42 ms per token,    13.81 tokens per second)\n",
      "llama_print_timings:       total time =    4670.95 ms /   298 tokens\n",
      "Llama.generate: prefix-match hit\n",
      "\n",
      "llama_print_timings:        load time =     669.84 ms\n",
      "llama_print_timings:      sample time =      75.26 ms /   134 runs   (    0.56 ms per token,  1780.59 tokens per second)\n",
      "llama_print_timings: prompt eval time =     698.66 ms /   248 tokens (    2.82 ms per token,   354.97 tokens per second)\n",
      "llama_print_timings:        eval time =    9918.59 ms /   133 runs   (   74.58 ms per token,    13.41 tokens per second)\n",
      "llama_print_timings:       total time =   11095.25 ms /   381 tokens\n",
      "Llama.generate: prefix-match hit\n",
      "\n",
      "llama_print_timings:        load time =     669.84 ms\n",
      "llama_print_timings:      sample time =      84.98 ms /   143 runs   (    0.59 ms per token,  1682.81 tokens per second)\n",
      "llama_print_timings: prompt eval time =     711.63 ms /   241 tokens (    2.95 ms per token,   338.66 tokens per second)\n",
      "llama_print_timings:        eval time =   10537.89 ms /   142 runs   (   74.21 ms per token,    13.48 tokens per second)\n",
      "llama_print_timings:       total time =   11823.79 ms /   383 tokens\n",
      "Llama.generate: prefix-match hit\n",
      "\n",
      "llama_print_timings:        load time =     669.84 ms\n",
      "llama_print_timings:      sample time =     124.66 ms /   207 runs   (    0.60 ms per token,  1660.49 tokens per second)\n",
      "llama_print_timings: prompt eval time =     718.06 ms /   250 tokens (    2.87 ms per token,   348.16 tokens per second)\n",
      "llama_print_timings:        eval time =   15357.40 ms /   206 runs   (   74.55 ms per token,    13.41 tokens per second)\n",
      "llama_print_timings:       total time =   16998.84 ms /   456 tokens\n",
      "Llama.generate: prefix-match hit\n",
      "\n",
      "llama_print_timings:        load time =     669.84 ms\n",
      "llama_print_timings:      sample time =      13.98 ms /    22 runs   (    0.64 ms per token,  1573.45 tokens per second)\n",
      "llama_print_timings: prompt eval time =     701.08 ms /   242 tokens (    2.90 ms per token,   345.18 tokens per second)\n",
      "llama_print_timings:        eval time =    1536.34 ms /    21 runs   (   73.16 ms per token,    13.67 tokens per second)\n",
      "llama_print_timings:       total time =    2331.69 ms /   263 tokens\n",
      "Llama.generate: prefix-match hit\n",
      "\n",
      "llama_print_timings:        load time =     669.84 ms\n",
      "llama_print_timings:      sample time =     138.14 ms /   241 runs   (    0.57 ms per token,  1744.66 tokens per second)\n",
      "llama_print_timings: prompt eval time =     713.65 ms /   245 tokens (    2.91 ms per token,   343.31 tokens per second)\n",
      "llama_print_timings:        eval time =   18020.18 ms /   240 runs   (   75.08 ms per token,    13.32 tokens per second)\n",
      "llama_print_timings:       total time =   19721.91 ms /   485 tokens\n",
      "Llama.generate: prefix-match hit\n",
      "\n",
      "llama_print_timings:        load time =     669.84 ms\n",
      "llama_print_timings:      sample time =      47.45 ms /    74 runs   (    0.64 ms per token,  1559.44 tokens per second)\n",
      "llama_print_timings: prompt eval time =     712.53 ms /   247 tokens (    2.88 ms per token,   346.65 tokens per second)\n",
      "llama_print_timings:        eval time =    5338.91 ms /    73 runs   (   73.14 ms per token,    13.67 tokens per second)\n",
      "llama_print_timings:       total time =    6414.60 ms /   320 tokens\n",
      "Llama.generate: prefix-match hit\n",
      "\n",
      "llama_print_timings:        load time =     669.84 ms\n",
      "llama_print_timings:      sample time =      99.28 ms /   169 runs   (    0.59 ms per token,  1702.19 tokens per second)\n",
      "llama_print_timings: prompt eval time =     709.38 ms /   240 tokens (    2.96 ms per token,   338.32 tokens per second)\n",
      "llama_print_timings:        eval time =   12428.85 ms /   168 runs   (   73.98 ms per token,    13.52 tokens per second)\n",
      "llama_print_timings:       total time =   13846.21 ms /   408 tokens\n",
      "Llama.generate: prefix-match hit\n",
      "\n",
      "llama_print_timings:        load time =     669.84 ms\n",
      "llama_print_timings:      sample time =      29.32 ms /    52 runs   (    0.56 ms per token,  1773.35 tokens per second)\n",
      "llama_print_timings: prompt eval time =     711.21 ms /   245 tokens (    2.90 ms per token,   344.48 tokens per second)\n",
      "llama_print_timings:        eval time =    3773.52 ms /    51 runs   (   73.99 ms per token,    13.52 tokens per second)\n",
      "llama_print_timings:       total time =    4678.80 ms /   296 tokens\n",
      "Llama.generate: prefix-match hit\n",
      "\n",
      "llama_print_timings:        load time =     669.84 ms\n",
      "llama_print_timings:      sample time =     121.61 ms /   205 runs   (    0.59 ms per token,  1685.74 tokens per second)\n",
      "llama_print_timings: prompt eval time =     700.47 ms /   235 tokens (    2.98 ms per token,   335.49 tokens per second)\n",
      "llama_print_timings:        eval time =   15188.43 ms /   204 runs   (   74.45 ms per token,    13.43 tokens per second)\n",
      "llama_print_timings:       total time =   16714.81 ms /   439 tokens\n",
      "Llama.generate: prefix-match hit\n",
      "\n",
      "llama_print_timings:        load time =     669.84 ms\n",
      "llama_print_timings:      sample time =     129.33 ms /   226 runs   (    0.57 ms per token,  1747.49 tokens per second)\n",
      "llama_print_timings: prompt eval time =     712.12 ms /   248 tokens (    2.87 ms per token,   348.26 tokens per second)\n",
      "llama_print_timings:        eval time =   16621.84 ms /   225 runs   (   73.87 ms per token,    13.54 tokens per second)\n",
      "llama_print_timings:       total time =   18321.49 ms /   473 tokens\n",
      "Llama.generate: prefix-match hit\n",
      "\n",
      "llama_print_timings:        load time =     669.84 ms\n",
      "llama_print_timings:      sample time =      12.52 ms /    22 runs   (    0.57 ms per token,  1757.89 tokens per second)\n",
      "llama_print_timings: prompt eval time =     699.38 ms /   235 tokens (    2.98 ms per token,   336.01 tokens per second)\n",
      "llama_print_timings:        eval time =    1564.30 ms /    21 runs   (   74.49 ms per token,    13.42 tokens per second)\n",
      "llama_print_timings:       total time =    2343.93 ms /   256 tokens\n",
      "Llama.generate: prefix-match hit\n",
      "\n",
      "llama_print_timings:        load time =     669.84 ms\n",
      "llama_print_timings:      sample time =     109.46 ms /   183 runs   (    0.60 ms per token,  1671.90 tokens per second)\n",
      "llama_print_timings: prompt eval time =     703.08 ms /   236 tokens (    2.98 ms per token,   335.67 tokens per second)\n",
      "llama_print_timings:        eval time =   13415.65 ms /   182 runs   (   73.71 ms per token,    13.57 tokens per second)\n",
      "llama_print_timings:       total time =   14883.88 ms /   418 tokens\n",
      "Llama.generate: prefix-match hit\n",
      "\n",
      "llama_print_timings:        load time =     669.84 ms\n",
      "llama_print_timings:      sample time =      42.40 ms /    73 runs   (    0.58 ms per token,  1721.66 tokens per second)\n",
      "llama_print_timings: prompt eval time =    1019.48 ms /   393 tokens (    2.59 ms per token,   385.49 tokens per second)\n",
      "llama_print_timings:        eval time =    5389.89 ms /    72 runs   (   74.86 ms per token,    13.36 tokens per second)\n",
      "llama_print_timings:       total time =    6673.20 ms /   465 tokens\n",
      "Llama.generate: prefix-match hit\n",
      "\n",
      "llama_print_timings:        load time =     669.84 ms\n",
      "llama_print_timings:      sample time =     113.72 ms /   186 runs   (    0.61 ms per token,  1635.62 tokens per second)\n",
      "llama_print_timings: prompt eval time =    1147.52 ms /   503 tokens (    2.28 ms per token,   438.34 tokens per second)\n",
      "llama_print_timings:        eval time =   14024.68 ms /   185 runs   (   75.81 ms per token,    13.19 tokens per second)\n",
      "llama_print_timings:       total time =   15980.25 ms /   688 tokens\n"
     ]
    },
    {
     "name": "stdout",
     "output_type": "stream",
     "text": [
      "Time taken  237.4162015914917\n"
     ]
    }
   ],
   "source": [
    "#Promt for generating ticket ETA\n",
    "prompt_4 = \"\"\"\n",
    "    You are an AI analyzing support tickets.\n",
    "    ETA needs to be assigned for the ticket, based on the given support ticket description, category, tags assigned for the issue and the assigned priority.\n",
    "    The ETA for the tickets can be one of the following:\n",
    "    - Immediate\n",
    "    - 6-12 Hours\n",
    "    - 12-24 Hours\n",
    "    - 1-2 Business Days\n",
    "    - 2-4 Business Days\n",
    "\n",
    "    Format the output as a JSON object with a single key-value pair as shown below. In case ETA is not identified, return \"No ETA\" (including quotes) for the corresponding JSON key value.:\n",
    "    {\"ETA\": \"your_ETA_prediction\"}\n",
    "\n",
    "    \"\"\"\n",
    "\n",
    "start = time.time()\n",
    "#Applying the ticket ETA generation function\n",
    "data_1['model_response_ETA'] = data_1[['support_ticket_text','Category','Tag','Priority']].apply(lambda x: response_4(prompt_4,x[0],x[1],x[2],x[3]),axis=1)\n",
    "end = time.time()\n",
    "print(\"Time taken \",(end-start))"
   ]
  },
  {
   "cell_type": "code",
   "execution_count": null,
   "metadata": {
    "colab": {
     "base_uri": "https://localhost:8080/"
    },
    "id": "YcYJZb8IVADS",
    "outputId": "f9b6e3a9-35d1-4568-ddae-c75995fd2aba"
   },
   "outputs": [
    {
     "data": {
      "text/plain": [
       "0     \\n    Based on the given support ticket descri...\n",
       "1     \\n    Based on the given support ticket descri...\n",
       "2     \\n    Based on the given support ticket descri...\n",
       "3     \\n    Based on the provided support ticket des...\n",
       "4     \\n    Based on the provided support ticket des...\n",
       "5     \\n    Based on the given support ticket descri...\n",
       "6     \\n    Based on the provided support ticket des...\n",
       "7     \\n    Based on the provided support ticket des...\n",
       "8     \\n    Based on the given support ticket descri...\n",
       "9     \\n    Based on the given support ticket descri...\n",
       "10             \\n    {\\n    \"ETA\": \"12-24 Hours\"\\n    }\n",
       "11    \\n    Based on the given support ticket descri...\n",
       "12    \\n    Based on the given support ticket descri...\n",
       "13    \\n    Based on the provided support ticket des...\n",
       "14    \\n    Based on the given support ticket descri...\n",
       "15    \\n    Based on the given support ticket descri...\n",
       "16    \\n    Based on the given support ticket descri...\n",
       "17           \\n    {\\n     \"ETA\": \"12-24 Hours\"\\n     }\n",
       "18    \\n    Based on the given support ticket descri...\n",
       "19    \\n    Based on the given support ticket descri...\n",
       "20    \\n    Based on the given support ticket descri...\n",
       "Name: model_response_ETA, dtype: object"
      ]
     },
     "execution_count": 41,
     "metadata": {},
     "output_type": "execute_result"
    }
   ],
   "source": [
    "#Printing the model's raw response\n",
    "data_1['model_response_ETA']"
   ]
  },
  {
   "cell_type": "code",
   "execution_count": null,
   "metadata": {
    "colab": {
     "base_uri": "https://localhost:8080/"
    },
    "id": "axt4cf8nyH6b",
    "outputId": "063ff32c-19fb-4d55-e6e1-4f38b4c638d5"
   },
   "outputs": [
    {
     "data": {
      "text/plain": [
       "0    {'ETA': '12-24 Hours'}\n",
       "1      {'ETA': 'Immediate'}\n",
       "2      {'ETA': 'Immediate'}\n",
       "3    {'ETA': '12-24 Hours'}\n",
       "4    {'ETA': '12-24 Hours'}\n",
       "Name: model_response_ETA_parsed, dtype: object"
      ]
     },
     "execution_count": 42,
     "metadata": {},
     "output_type": "execute_result"
    }
   ],
   "source": [
    "#Parsing the JSON data from the model's response\n",
    "data_1['model_response_ETA_parsed'] = data_1['model_response_ETA'].apply(extract_json_data)\n",
    "data_1['model_response_ETA_parsed'].head()"
   ]
  },
  {
   "cell_type": "code",
   "execution_count": null,
   "metadata": {
    "id": "_z_DqW_SyHvb"
   },
   "outputs": [],
   "source": [
    "#Parsing the value field from the JSON key value pair\n",
    "data_1['ETA']=pd.json_normalize(data_1['model_response_ETA_parsed'])"
   ]
  },
  {
   "cell_type": "code",
   "execution_count": null,
   "metadata": {
    "colab": {
     "base_uri": "https://localhost:8080/"
    },
    "id": "5g5wM6sqVao3",
    "outputId": "bc4e0e94-7d8f-4fbe-da8d-a16ae063e041"
   },
   "outputs": [
    {
     "data": {
      "text/plain": [
       "0     12-24 Hours\n",
       "1       Immediate\n",
       "2       Immediate\n",
       "3     12-24 Hours\n",
       "4     12-24 Hours\n",
       "5     12-24 Hours\n",
       "6     12-24 Hours\n",
       "7     12-24 Hours\n",
       "8     12-24 Hours\n",
       "9     12-24 Hours\n",
       "10    12-24 Hours\n",
       "11    12-24 Hours\n",
       "12    12-24 Hours\n",
       "13    12-24 Hours\n",
       "14    12-24 Hours\n",
       "15    12-24 Hours\n",
       "16     6-12 hours\n",
       "17    12-24 Hours\n",
       "18    12-24 Hours\n",
       "19    12-24 Hours\n",
       "20    12-24 Hours\n",
       "Name: ETA, dtype: object"
      ]
     },
     "execution_count": 44,
     "metadata": {},
     "output_type": "execute_result"
    }
   ],
   "source": [
    "data_1['ETA']"
   ]
  },
  {
   "cell_type": "code",
   "execution_count": null,
   "metadata": {
    "id": "QIb_uWhXzStT"
   },
   "outputs": [],
   "source": [
    "#Dropping the unwanted columns\n",
    "data_1.drop(columns=['model_response_ETA','model_response_ETA_parsed'], inplace=True)"
   ]
  },
  {
   "cell_type": "code",
   "execution_count": null,
   "metadata": {
    "id": "5OtgC5UYE4t_"
   },
   "outputs": [],
   "source": [
    "#Defining a function to generate response to be sent based on the support ticket, ticket category, ticket tag, priority, ETA and user's prompt\n",
    "def response_5(instruction, ticket,category,tag,priority,eta):\n",
    "\n",
    "    system_message = \"\"\"\n",
    "        [INST]<<SYS>>\n",
    "        {}\n",
    "        <</SYS>>[/INST]\n",
    "    \"\"\".format(instruction)\n",
    "\n",
    "    # Combining the support ticket, category, tags, priority and user_prompt to create the prompt\n",
    "    prompt = f\"Support Ticket: {ticket}\\nCategory: {category}\\nTag:{tag}\\nPriority: {priority}\\nETA: {eta}\\n{system_message}\"\n",
    "\n",
    "    # Generate a response from the LLaMA model\n",
    "    response = lcpp_llm(\n",
    "        prompt=prompt, # Final prompt to the model\n",
    "        max_tokens=1024, # the maximum number of tokens that the model should generate\n",
    "        temperature=0, # controls the randomness of the generated response\n",
    "        top_p=0.95, # controls the diversity of the generated response by establishing a cumulative probability cutoff for token selection\n",
    "        repeat_penalty=1.2, # controls the penalty for repeating tokens in the generated response\n",
    "        top_k=50, # controls the maximum number of most-likely next tokens to consider\n",
    "        stop=['INST'], # list of tokens that are used to dynamically stop response generation\n",
    "        echo=False, # controls whether the input (prompt) to the model should be returned\n",
    "        seed=42, # specifies a seed value that helps replicate results\n",
    "    )\n",
    "\n",
    "    # Extracting the model's response\n",
    "    response_text = response[\"choices\"][0][\"text\"]\n",
    "    return response_text"
   ]
  },
  {
   "cell_type": "code",
   "execution_count": null,
   "metadata": {
    "id": "sRPJXsvME4rH"
   },
   "outputs": [],
   "source": []
  },
  {
   "cell_type": "code",
   "execution_count": null,
   "metadata": {
    "colab": {
     "base_uri": "https://localhost:8080/"
    },
    "id": "d4mZGqSMVbZ7",
    "outputId": "0e915e27-5075-4d48-9ba9-710105bb067e"
   },
   "outputs": [
    {
     "name": "stderr",
     "output_type": "stream",
     "text": [
      "Llama.generate: prefix-match hit\n",
      "\n",
      "llama_print_timings:        load time =     669.84 ms\n",
      "llama_print_timings:      sample time =      77.06 ms /   122 runs   (    0.63 ms per token,  1583.12 tokens per second)\n",
      "llama_print_timings: prompt eval time =     692.53 ms /   228 tokens (    3.04 ms per token,   329.23 tokens per second)\n",
      "llama_print_timings:        eval time =    9345.12 ms /   121 runs   (   77.23 ms per token,    12.95 tokens per second)\n",
      "llama_print_timings:       total time =   10544.28 ms /   349 tokens\n",
      "Llama.generate: prefix-match hit\n",
      "\n",
      "llama_print_timings:        load time =     669.84 ms\n",
      "llama_print_timings:      sample time =      64.43 ms /   106 runs   (    0.61 ms per token,  1645.27 tokens per second)\n",
      "llama_print_timings: prompt eval time =     752.19 ms /   222 tokens (    3.39 ms per token,   295.14 tokens per second)\n",
      "llama_print_timings:        eval time =    8127.57 ms /   105 runs   (   77.41 ms per token,    12.92 tokens per second)\n",
      "llama_print_timings:       total time =    9298.47 ms /   327 tokens\n",
      "Llama.generate: prefix-match hit\n",
      "\n",
      "llama_print_timings:        load time =     669.84 ms\n",
      "llama_print_timings:      sample time =      49.82 ms /    85 runs   (    0.59 ms per token,  1706.18 tokens per second)\n",
      "llama_print_timings: prompt eval time =     728.67 ms /   213 tokens (    3.42 ms per token,   292.31 tokens per second)\n",
      "llama_print_timings:        eval time =    6497.88 ms /    84 runs   (   77.36 ms per token,    12.93 tokens per second)\n",
      "llama_print_timings:       total time =    7522.27 ms /   297 tokens\n",
      "Llama.generate: prefix-match hit\n",
      "\n",
      "llama_print_timings:        load time =     669.84 ms\n",
      "llama_print_timings:      sample time =      95.11 ms /   163 runs   (    0.58 ms per token,  1713.77 tokens per second)\n",
      "llama_print_timings: prompt eval time =     717.97 ms /   240 tokens (    2.99 ms per token,   334.28 tokens per second)\n",
      "llama_print_timings:        eval time =   11725.84 ms /   162 runs   (   72.38 ms per token,    13.82 tokens per second)\n",
      "llama_print_timings:       total time =   13087.72 ms /   402 tokens\n",
      "Llama.generate: prefix-match hit\n",
      "\n",
      "llama_print_timings:        load time =     669.84 ms\n",
      "llama_print_timings:      sample time =      47.45 ms /    77 runs   (    0.62 ms per token,  1622.76 tokens per second)\n",
      "llama_print_timings: prompt eval time =     658.83 ms /   209 tokens (    3.15 ms per token,   317.23 tokens per second)\n",
      "llama_print_timings:        eval time =    5255.95 ms /    76 runs   (   69.16 ms per token,    14.46 tokens per second)\n",
      "llama_print_timings:       total time =    6239.27 ms /   285 tokens\n",
      "Llama.generate: prefix-match hit\n",
      "\n",
      "llama_print_timings:        load time =     669.84 ms\n",
      "llama_print_timings:      sample time =      50.38 ms /    89 runs   (    0.57 ms per token,  1766.40 tokens per second)\n",
      "llama_print_timings: prompt eval time =     642.07 ms /   204 tokens (    3.15 ms per token,   317.72 tokens per second)\n",
      "llama_print_timings:        eval time =    6147.85 ms /    88 runs   (   69.86 ms per token,    14.31 tokens per second)\n",
      "llama_print_timings:       total time =    7102.81 ms /   292 tokens\n",
      "Llama.generate: prefix-match hit\n",
      "\n",
      "llama_print_timings:        load time =     669.84 ms\n",
      "llama_print_timings:      sample time =      92.60 ms /   112 runs   (    0.83 ms per token,  1209.49 tokens per second)\n",
      "llama_print_timings: prompt eval time =     661.20 ms /   208 tokens (    3.18 ms per token,   314.58 tokens per second)\n",
      "llama_print_timings:        eval time =    7563.80 ms /   111 runs   (   68.14 ms per token,    14.68 tokens per second)\n",
      "llama_print_timings:       total time =    8774.75 ms /   319 tokens\n",
      "Llama.generate: prefix-match hit\n",
      "\n",
      "llama_print_timings:        load time =     669.84 ms\n",
      "llama_print_timings:      sample time =     102.42 ms /   171 runs   (    0.60 ms per token,  1669.64 tokens per second)\n",
      "llama_print_timings: prompt eval time =     660.47 ms /   209 tokens (    3.16 ms per token,   316.44 tokens per second)\n",
      "llama_print_timings:        eval time =   12194.39 ms /   170 runs   (   71.73 ms per token,    13.94 tokens per second)\n",
      "llama_print_timings:       total time =   13535.92 ms /   379 tokens\n",
      "Llama.generate: prefix-match hit\n",
      "\n",
      "llama_print_timings:        load time =     669.84 ms\n",
      "llama_print_timings:      sample time =      79.05 ms /   134 runs   (    0.59 ms per token,  1695.24 tokens per second)\n",
      "llama_print_timings: prompt eval time =     677.61 ms /   202 tokens (    3.35 ms per token,   298.11 tokens per second)\n",
      "llama_print_timings:        eval time =   10061.11 ms /   133 runs   (   75.65 ms per token,    13.22 tokens per second)\n",
      "llama_print_timings:       total time =   11244.32 ms /   335 tokens\n",
      "Llama.generate: prefix-match hit\n",
      "\n",
      "llama_print_timings:        load time =     669.84 ms\n",
      "llama_print_timings:      sample time =      82.93 ms /   147 runs   (    0.56 ms per token,  1772.56 tokens per second)\n",
      "llama_print_timings: prompt eval time =     691.28 ms /   211 tokens (    3.28 ms per token,   305.23 tokens per second)\n",
      "llama_print_timings:        eval time =   10996.94 ms /   146 runs   (   75.32 ms per token,    13.28 tokens per second)\n",
      "llama_print_timings:       total time =   12322.03 ms /   357 tokens\n",
      "Llama.generate: prefix-match hit\n",
      "\n",
      "llama_print_timings:        load time =     669.84 ms\n",
      "llama_print_timings:      sample time =      96.28 ms /   161 runs   (    0.60 ms per token,  1672.17 tokens per second)\n",
      "llama_print_timings: prompt eval time =     684.39 ms /   203 tokens (    3.37 ms per token,   296.61 tokens per second)\n",
      "llama_print_timings:        eval time =   12050.83 ms /   160 runs   (   75.32 ms per token,    13.28 tokens per second)\n",
      "llama_print_timings:       total time =   13360.44 ms /   363 tokens\n",
      "Llama.generate: prefix-match hit\n",
      "\n",
      "llama_print_timings:        load time =     669.84 ms\n",
      "llama_print_timings:      sample time =      70.33 ms /   121 runs   (    0.58 ms per token,  1720.41 tokens per second)\n",
      "llama_print_timings: prompt eval time =     681.54 ms /   206 tokens (    3.31 ms per token,   302.25 tokens per second)\n",
      "llama_print_timings:        eval time =    8825.17 ms /   120 runs   (   73.54 ms per token,    13.60 tokens per second)\n",
      "llama_print_timings:       total time =    9996.74 ms /   326 tokens\n",
      "Llama.generate: prefix-match hit\n",
      "\n",
      "llama_print_timings:        load time =     669.84 ms\n",
      "llama_print_timings:      sample time =      69.23 ms /   109 runs   (    0.64 ms per token,  1574.51 tokens per second)\n",
      "llama_print_timings: prompt eval time =     681.21 ms /   208 tokens (    3.28 ms per token,   305.34 tokens per second)\n",
      "llama_print_timings:        eval time =    7805.29 ms /   108 runs   (   72.27 ms per token,    13.84 tokens per second)\n",
      "llama_print_timings:       total time =    8957.70 ms /   316 tokens\n",
      "Llama.generate: prefix-match hit\n",
      "\n",
      "llama_print_timings:        load time =     669.84 ms\n",
      "llama_print_timings:      sample time =      58.98 ms /   107 runs   (    0.55 ms per token,  1814.33 tokens per second)\n",
      "llama_print_timings: prompt eval time =     670.36 ms /   201 tokens (    3.34 ms per token,   299.84 tokens per second)\n",
      "llama_print_timings:        eval time =    7689.61 ms /   106 runs   (   72.54 ms per token,    13.78 tokens per second)\n",
      "llama_print_timings:       total time =    8728.89 ms /   307 tokens\n",
      "Llama.generate: prefix-match hit\n",
      "\n",
      "llama_print_timings:        load time =     669.84 ms\n",
      "llama_print_timings:      sample time =      64.83 ms /   104 runs   (    0.62 ms per token,  1604.12 tokens per second)\n",
      "llama_print_timings: prompt eval time =     674.87 ms /   206 tokens (    3.28 ms per token,   305.25 tokens per second)\n",
      "llama_print_timings:        eval time =    7413.80 ms /   103 runs   (   71.98 ms per token,    13.89 tokens per second)\n",
      "llama_print_timings:       total time =    8514.54 ms /   309 tokens\n",
      "Llama.generate: prefix-match hit\n",
      "\n",
      "llama_print_timings:        load time =     669.84 ms\n",
      "llama_print_timings:      sample time =      57.82 ms /    93 runs   (    0.62 ms per token,  1608.47 tokens per second)\n",
      "llama_print_timings: prompt eval time =     669.83 ms /   196 tokens (    3.42 ms per token,   292.61 tokens per second)\n",
      "llama_print_timings:        eval time =    6589.37 ms /    92 runs   (   71.62 ms per token,    13.96 tokens per second)\n",
      "llama_print_timings:       total time =    7656.79 ms /   288 tokens\n",
      "Llama.generate: prefix-match hit\n",
      "\n",
      "llama_print_timings:        load time =     669.84 ms\n",
      "llama_print_timings:      sample time =      56.25 ms /   108 runs   (    0.52 ms per token,  1920.10 tokens per second)\n",
      "llama_print_timings: prompt eval time =     680.20 ms /   207 tokens (    3.29 ms per token,   304.32 tokens per second)\n",
      "llama_print_timings:        eval time =    7882.28 ms /   107 runs   (   73.67 ms per token,    13.57 tokens per second)\n",
      "llama_print_timings:       total time =    8924.71 ms /   314 tokens\n",
      "Llama.generate: prefix-match hit\n",
      "\n",
      "llama_print_timings:        load time =     669.84 ms\n",
      "llama_print_timings:      sample time =      62.56 ms /   102 runs   (    0.61 ms per token,  1630.43 tokens per second)\n",
      "llama_print_timings: prompt eval time =     669.13 ms /   196 tokens (    3.41 ms per token,   292.92 tokens per second)\n",
      "llama_print_timings:        eval time =    7252.98 ms /   101 runs   (   71.81 ms per token,    13.93 tokens per second)\n",
      "llama_print_timings:       total time =    8363.36 ms /   297 tokens\n",
      "Llama.generate: prefix-match hit\n",
      "\n",
      "llama_print_timings:        load time =     669.84 ms\n",
      "llama_print_timings:      sample time =      47.34 ms /    86 runs   (    0.55 ms per token,  1816.53 tokens per second)\n",
      "llama_print_timings: prompt eval time =     671.05 ms /   197 tokens (    3.41 ms per token,   293.57 tokens per second)\n",
      "llama_print_timings:        eval time =    6241.37 ms /    85 runs   (   73.43 ms per token,    13.62 tokens per second)\n",
      "llama_print_timings:       total time =    7207.29 ms /   282 tokens\n",
      "Llama.generate: prefix-match hit\n",
      "\n",
      "llama_print_timings:        load time =     669.84 ms\n",
      "llama_print_timings:      sample time =      69.08 ms /   110 runs   (    0.63 ms per token,  1592.29 tokens per second)\n",
      "llama_print_timings: prompt eval time =     941.35 ms /   354 tokens (    2.66 ms per token,   376.06 tokens per second)\n",
      "llama_print_timings:        eval time =    8072.65 ms /   109 runs   (   74.06 ms per token,    13.50 tokens per second)\n",
      "llama_print_timings:       total time =    9461.04 ms /   463 tokens\n",
      "Llama.generate: prefix-match hit\n",
      "\n",
      "llama_print_timings:        load time =     669.84 ms\n",
      "llama_print_timings:      sample time =      79.51 ms /   130 runs   (    0.61 ms per token,  1635.06 tokens per second)\n",
      "llama_print_timings: prompt eval time =    1088.41 ms /   464 tokens (    2.35 ms per token,   426.31 tokens per second)\n",
      "llama_print_timings:        eval time =    9630.46 ms /   129 runs   (   74.65 ms per token,    13.39 tokens per second)\n",
      "llama_print_timings:       total time =   11256.77 ms /   593 tokens\n"
     ]
    },
    {
     "name": "stdout",
     "output_type": "stream",
     "text": [
      "Time taken  202.4249885082245\n"
     ]
    }
   ],
   "source": [
    "#Promt for generating ticket response\n",
    "prompt_5 = \"\"\"\n",
    "    You are an AI analyzing support tickets. Response for the support ticket needs to be sent to the user based on the given support ticket description, category, tags assigned for the issue, assigned priority and ETA for resolution.\n",
    "    Please generate the response to be sent for the support ticket to the user.\n",
    "\n",
    "    Generate the response in a single line without any new line characters.\n",
    "    Format the output as a JSON object with a single key-value pair as shown below:\n",
    "    {\"Response\": \"the_generated_response\"}\n",
    "\n",
    "    \"\"\"\n",
    "\n",
    "start = time.time()\n",
    "#Applying the ticket response generation function\n",
    "data_1['model_response_resp'] = data_1[['support_ticket_text','Category','Tag','Priority','ETA']].apply(lambda x: response_5(prompt_5,x[0],x[1],x[2],x[3],x[4]),axis=1)\n",
    "end = time.time()\n",
    "print(\"Time taken \",(end-start))"
   ]
  },
  {
   "cell_type": "code",
   "execution_count": null,
   "metadata": {
    "colab": {
     "base_uri": "https://localhost:8080/"
    },
    "id": "60uDEOX40-5_",
    "outputId": "f671c33b-e5a5-43d4-d60b-652be6a00c20"
   },
   "outputs": [
    {
     "data": {
      "text/plain": [
       "0    {'Response': 'We apologize for the inconvenien...\n",
       "1    {'Response': 'I apologize for the inconvenienc...\n",
       "2    {'Response': 'We apologize for the inconvenien...\n",
       "3    {'Response': 'Thank you for reaching out to us...\n",
       "4    {'Response': 'Thank you for reaching out to us...\n",
       "Name: model_response_resp_parsed, dtype: object"
      ]
     },
     "execution_count": 70,
     "metadata": {},
     "output_type": "execute_result"
    }
   ],
   "source": [
    "#Parsing the JSON data from the model's response\n",
    "data_1['model_response_resp_parsed'] = data_1['model_response_resp'].apply(extract_json_data)\n",
    "data_1['model_response_resp_parsed'].head()"
   ]
  },
  {
   "cell_type": "code",
   "execution_count": null,
   "metadata": {
    "colab": {
     "base_uri": "https://localhost:8080/",
     "height": 70
    },
    "id": "JivnsIvjLNoy",
    "outputId": "7ff9a4f8-da15-4955-a555-fa413c24d3f5"
   },
   "outputs": [
    {
     "data": {
      "application/vnd.google.colaboratory.intrinsic+json": {
       "type": "string"
      },
      "text/plain": [
       "' {\"Response\": \"Thank you for reaching out to us! We\\'re here to help you resolve the battery drain issue on your smartphone. Based on the information provided, we\\'ve assigned a medium priority to your ticket (ETA: 12-24 hours). Our team will start investigating the matter and provide a solution as soon as possible.\"}'"
      ]
     },
     "execution_count": 71,
     "metadata": {},
     "output_type": "execute_result"
    }
   ],
   "source": [
    "data_1['model_response_resp'][4]"
   ]
  },
  {
   "cell_type": "code",
   "execution_count": null,
   "metadata": {
    "id": "xbPwhD-t1Gzg"
   },
   "outputs": [],
   "source": [
    "#Parsing the value field from the JSON key value pair\n",
    "data_1['Response']=pd.json_normalize(data_1['model_response_resp_parsed'])"
   ]
  },
  {
   "cell_type": "code",
   "execution_count": null,
   "metadata": {
    "colab": {
     "base_uri": "https://localhost:8080/"
    },
    "id": "2QCH_fG0YNie",
    "outputId": "2b0d90b2-660a-4294-f6bb-d6c93bb9be93"
   },
   "outputs": [
    {
     "data": {
      "text/plain": [
       "0     We apologize for the inconvenience caused by t...\n",
       "1     I apologize for the inconvenience you are faci...\n",
       "2     We apologize for the inconvenience caused by t...\n",
       "3     Thank you for reaching out to us regarding you...\n",
       "4     Thank you for reaching out to us! We're here t...\n",
       "5     We apologize for the inconvenience! We have re...\n",
       "6     Thank you for reaching out! Based on the infor...\n",
       "7     Thank you for reaching out to us! We apologize...\n",
       "8     Thank you for reaching out to us! We understan...\n",
       "9     Thank you for reaching out to us! We're sorry ...\n",
       "10    We understand the urgency of your situation an...\n",
       "11    We apologize for the inconvenience you are fac...\n",
       "12    Sorry to hear that you accidentally spilled wa...\n",
       "13    Thank you for reaching out to us! We understan...\n",
       "14    Thank you for reaching out to us! We're sorry ...\n",
       "15    We apologize for the inconvenience caused by t...\n",
       "16    Dear [User], we apologize for the inconvenienc...\n",
       "17    We understand the urgency of the situation and...\n",
       "18    Thank you for reaching out to us with your iss...\n",
       "19    Thank you for reaching out to us regarding you...\n",
       "20    Thank you for reaching out to us regarding the...\n",
       "Name: Response, dtype: object"
      ]
     },
     "execution_count": 73,
     "metadata": {},
     "output_type": "execute_result"
    }
   ],
   "source": [
    "data_1['Response']"
   ]
  },
  {
   "cell_type": "code",
   "execution_count": null,
   "metadata": {
    "colab": {
     "base_uri": "https://localhost:8080/",
     "height": 87
    },
    "id": "isTkJU0xZzM1",
    "outputId": "6ecb18e8-d4cd-4394-cdbb-64c0d3a3d41b"
   },
   "outputs": [
    {
     "data": {
      "application/vnd.google.colaboratory.intrinsic+json": {
       "type": "string"
      },
      "text/plain": [
       "\"We apologize for the inconvenience caused by the slow internet speeds and frequent disconnections you're experiencing. Our team is working diligently to resolve the issue as soon as possible. We have escalated the matter to our network operations team and they are currently investigating the cause of the problem. We will keep you updated on the progress and aim to resolve the issue within the next 12-24 hours. In the meantime, you may experience some intermittent connectivity issues. Thank you for your patience and understanding.\""
      ]
     },
     "execution_count": 74,
     "metadata": {},
     "output_type": "execute_result"
    }
   ],
   "source": [
    "data_1['Response'][0]"
   ]
  },
  {
   "cell_type": "code",
   "execution_count": null,
   "metadata": {
    "id": "nqSDzJjbcw7G"
   },
   "outputs": [],
   "source": [
    "#Dropping the unwanted columns\n",
    "data_1.drop(columns=['model_response_resp','model_response_resp_parsed'], inplace=True)"
   ]
  },
  {
   "cell_type": "code",
   "execution_count": null,
   "metadata": {
    "colab": {
     "base_uri": "https://localhost:8080/",
     "height": 1000
    },
    "id": "bSybmbLgE4ob",
    "outputId": "4eba0028-b24d-4820-e423-605de129c9f9"
   },
   "outputs": [
    {
     "data": {
      "application/vnd.google.colaboratory.intrinsic+json": {
       "summary": "{\n  \"name\": \"data_1\",\n  \"rows\": 21,\n  \"fields\": [\n    {\n      \"column\": \"support_tick_id\",\n      \"properties\": {\n        \"dtype\": \"string\",\n        \"num_unique_values\": 21,\n        \"samples\": [\n          \"ST2023-006\",\n          \"ST2023-023\",\n          \"ST2023-021\"\n        ],\n        \"semantic_type\": \"\",\n        \"description\": \"\"\n      }\n    },\n    {\n      \"column\": \"support_ticket_text\",\n      \"properties\": {\n        \"dtype\": \"string\",\n        \"num_unique_values\": 21,\n        \"samples\": [\n          \"My internet connection has significantly slowed down over the past two days, making it challenging to work efficiently from home. Frequent disconnections are causing major disruptions. Please assist in resolving this connectivity issue promptly.\",\n          \"I accidentally formatted my USB drive with crucial files. Help needed for data recovery.\",\n          \"My internet connection is frequently dropping, affecting my work. Urgent help needed.\"\n        ],\n        \"semantic_type\": \"\",\n        \"description\": \"\"\n      }\n    },\n    {\n      \"column\": \"Category\",\n      \"properties\": {\n        \"dtype\": \"string\",\n        \"num_unique_values\": 13,\n        \"samples\": [\n          \"Internet Connectivity\",\n          \"Internet Connection Issues\",\n          \"Internet Connectivity Issues\"\n        ],\n        \"semantic_type\": \"\",\n        \"description\": \"\"\n      }\n    },\n    {\n      \"column\": \"Tag\",\n      \"properties\": {\n        \"dtype\": \"string\",\n        \"num_unique_values\": 20,\n        \"samples\": [\n          \"Internet Connectivity Issues, Disconnections\",\n          \"Data Recovery, Accidental Format\",\n          \"InternetConnectionDropouts, WorkInterruption\"\n        ],\n        \"semantic_type\": \"\",\n        \"description\": \"\"\n      }\n    },\n    {\n      \"column\": \"Priority\",\n      \"properties\": {\n        \"dtype\": \"category\",\n        \"num_unique_values\": 2,\n        \"samples\": [\n          \"Medium\",\n          \"High\"\n        ],\n        \"semantic_type\": \"\",\n        \"description\": \"\"\n      }\n    },\n    {\n      \"column\": \"ETA\",\n      \"properties\": {\n        \"dtype\": \"category\",\n        \"num_unique_values\": 3,\n        \"samples\": [\n          \"12-24 Hours\",\n          \"Immediate\"\n        ],\n        \"semantic_type\": \"\",\n        \"description\": \"\"\n      }\n    },\n    {\n      \"column\": \"Response\",\n      \"properties\": {\n        \"dtype\": \"string\",\n        \"num_unique_values\": 21,\n        \"samples\": [\n          \"We apologize for the inconvenience caused by the slow internet speeds and frequent disconnections you're experiencing. Our team is working diligently to resolve the issue as soon as possible. We have escalated the matter to our network operations team and they are currently investigating the cause of the problem. We will keep you updated on the progress and aim to resolve the issue within the next 12-24 hours. In the meantime, you may experience some intermittent connectivity issues. Thank you for your patience and understanding.\",\n          \"We understand the urgency of the situation and are here to help you recover your crucial files from the formatted USB drive. Our team of experts will work on your case with high priority and aim to resolve it within the next 12-24 hours. In the meantime, please do not use the USB drive anymore to avoid any further damage or loss of data. We will keep you updated on the progress and let you know once the resolution is achieved.\"\n        ],\n        \"semantic_type\": \"\",\n        \"description\": \"\"\n      }\n    }\n  ]\n}",
       "type": "dataframe",
       "variable_name": "data_1"
      },
      "text/html": [
       "\n",
       "  <div id=\"df-9385d3ff-1d52-436d-b8cc-6c3873e54e6d\" class=\"colab-df-container\">\n",
       "    <div>\n",
       "<style scoped>\n",
       "    .dataframe tbody tr th:only-of-type {\n",
       "        vertical-align: middle;\n",
       "    }\n",
       "\n",
       "    .dataframe tbody tr th {\n",
       "        vertical-align: top;\n",
       "    }\n",
       "\n",
       "    .dataframe thead th {\n",
       "        text-align: right;\n",
       "    }\n",
       "</style>\n",
       "<table border=\"1\" class=\"dataframe\">\n",
       "  <thead>\n",
       "    <tr style=\"text-align: right;\">\n",
       "      <th></th>\n",
       "      <th>support_tick_id</th>\n",
       "      <th>support_ticket_text</th>\n",
       "      <th>Category</th>\n",
       "      <th>Tag</th>\n",
       "      <th>Priority</th>\n",
       "      <th>ETA</th>\n",
       "      <th>Response</th>\n",
       "    </tr>\n",
       "  </thead>\n",
       "  <tbody>\n",
       "    <tr>\n",
       "      <th>0</th>\n",
       "      <td>ST2023-006</td>\n",
       "      <td>My internet connection has significantly slowe...</td>\n",
       "      <td>Internet Connectivity Issues</td>\n",
       "      <td>Internet Connectivity Issues, Disconnections</td>\n",
       "      <td>High</td>\n",
       "      <td>12-24 Hours</td>\n",
       "      <td>We apologize for the inconvenience caused by t...</td>\n",
       "    </tr>\n",
       "    <tr>\n",
       "      <th>1</th>\n",
       "      <td>ST2023-007</td>\n",
       "      <td>Urgent help required! My laptop refuses to sta...</td>\n",
       "      <td>Hardware Issue</td>\n",
       "      <td>Hardware Failure, Urgent Assistance Required</td>\n",
       "      <td>High</td>\n",
       "      <td>Immediate</td>\n",
       "      <td>I apologize for the inconvenience you are faci...</td>\n",
       "    </tr>\n",
       "    <tr>\n",
       "      <th>2</th>\n",
       "      <td>ST2023-008</td>\n",
       "      <td>I've accidentally deleted essential work docum...</td>\n",
       "      <td>Data Recovery</td>\n",
       "      <td>Data Loss, Priority Request</td>\n",
       "      <td>High</td>\n",
       "      <td>Immediate</td>\n",
       "      <td>We apologize for the inconvenience caused by t...</td>\n",
       "    </tr>\n",
       "    <tr>\n",
       "      <th>3</th>\n",
       "      <td>ST2023-009</td>\n",
       "      <td>Despite being in close proximity to my Wi-Fi r...</td>\n",
       "      <td>Wi-Fi Signal Issues</td>\n",
       "      <td>Weak Wi-Fi Signal, Troubleshooting Issues</td>\n",
       "      <td>Medium</td>\n",
       "      <td>12-24 Hours</td>\n",
       "      <td>Thank you for reaching out to us regarding you...</td>\n",
       "    </tr>\n",
       "    <tr>\n",
       "      <th>4</th>\n",
       "      <td>ST2023-010</td>\n",
       "      <td>My smartphone battery is draining rapidly, eve...</td>\n",
       "      <td>Battery Issue</td>\n",
       "      <td>Battery Drain, Rapid Discharge</td>\n",
       "      <td>Medium</td>\n",
       "      <td>12-24 Hours</td>\n",
       "      <td>Thank you for reaching out to us! We're here t...</td>\n",
       "    </tr>\n",
       "    <tr>\n",
       "      <th>5</th>\n",
       "      <td>ST2023-011</td>\n",
       "      <td>I'm locked out of my online banking account an...</td>\n",
       "      <td>Password Reset</td>\n",
       "      <td>urgent transaction, password reset, lockout</td>\n",
       "      <td>High</td>\n",
       "      <td>12-24 Hours</td>\n",
       "      <td>We apologize for the inconvenience! We have re...</td>\n",
       "    </tr>\n",
       "    <tr>\n",
       "      <th>6</th>\n",
       "      <td>ST2023-012</td>\n",
       "      <td>My computer's performance is sluggish, severel...</td>\n",
       "      <td>Performance Issues</td>\n",
       "      <td>performance_issues, slow_computer</td>\n",
       "      <td>Medium</td>\n",
       "      <td>12-24 Hours</td>\n",
       "      <td>Thank you for reaching out! Based on the infor...</td>\n",
       "    </tr>\n",
       "    <tr>\n",
       "      <th>7</th>\n",
       "      <td>ST2023-013</td>\n",
       "      <td>I'm experiencing a recurring blue screen error...</td>\n",
       "      <td>Hardware Issue</td>\n",
       "      <td>blue_screen_error, hardware_issue</td>\n",
       "      <td>Medium</td>\n",
       "      <td>12-24 Hours</td>\n",
       "      <td>Thank you for reaching out to us! We apologize...</td>\n",
       "    </tr>\n",
       "    <tr>\n",
       "      <th>8</th>\n",
       "      <td>ST2023-014</td>\n",
       "      <td>My external hard drive isn't being recognized ...</td>\n",
       "      <td>Data Recovery</td>\n",
       "      <td>Data Recovery, Hardware Issues</td>\n",
       "      <td>Medium</td>\n",
       "      <td>12-24 Hours</td>\n",
       "      <td>Thank you for reaching out to us! We understan...</td>\n",
       "    </tr>\n",
       "    <tr>\n",
       "      <th>9</th>\n",
       "      <td>ST2023-015</td>\n",
       "      <td>The graphics card in my gaming laptop seems to...</td>\n",
       "      <td>Hardware Issue</td>\n",
       "      <td>Hardware Issue, Graphics Card Malfunction</td>\n",
       "      <td>High</td>\n",
       "      <td>12-24 Hours</td>\n",
       "      <td>Thank you for reaching out to us! We're sorry ...</td>\n",
       "    </tr>\n",
       "    <tr>\n",
       "      <th>10</th>\n",
       "      <td>ST2023-016</td>\n",
       "      <td>I accidentally formatted my USB drive with cri...</td>\n",
       "      <td>Data Recovery</td>\n",
       "      <td>Data Loss, File Retrieval</td>\n",
       "      <td>Medium</td>\n",
       "      <td>12-24 Hours</td>\n",
       "      <td>We understand the urgency of your situation an...</td>\n",
       "    </tr>\n",
       "    <tr>\n",
       "      <th>11</th>\n",
       "      <td>ST2023-017</td>\n",
       "      <td>My computer's screen has gone black, and I can...</td>\n",
       "      <td>Hardware Issue</td>\n",
       "      <td>Hardware Issue, Black Screen</td>\n",
       "      <td>High</td>\n",
       "      <td>12-24 Hours</td>\n",
       "      <td>We apologize for the inconvenience you are fac...</td>\n",
       "    </tr>\n",
       "    <tr>\n",
       "      <th>12</th>\n",
       "      <td>ST2023-018</td>\n",
       "      <td>I accidentally spilled water on my laptop, and...</td>\n",
       "      <td>Water Damage</td>\n",
       "      <td>Water Damage, Data Recovery</td>\n",
       "      <td>Medium</td>\n",
       "      <td>12-24 Hours</td>\n",
       "      <td>Sorry to hear that you accidentally spilled wa...</td>\n",
       "    </tr>\n",
       "    <tr>\n",
       "      <th>13</th>\n",
       "      <td>ST2023-019</td>\n",
       "      <td>My USB flash drive is physically damaged, and ...</td>\n",
       "      <td>Physical Damage</td>\n",
       "      <td>Physical Damage, File Recovery</td>\n",
       "      <td>Medium</td>\n",
       "      <td>12-24 Hours</td>\n",
       "      <td>Thank you for reaching out to us! We understan...</td>\n",
       "    </tr>\n",
       "    <tr>\n",
       "      <th>14</th>\n",
       "      <td>ST2023-020</td>\n",
       "      <td>The touchpad on my laptop has stopped working,...</td>\n",
       "      <td>Hardware Issue</td>\n",
       "      <td>hardware_issue, touchpad_issue</td>\n",
       "      <td>Medium</td>\n",
       "      <td>12-24 Hours</td>\n",
       "      <td>Thank you for reaching out to us! We're sorry ...</td>\n",
       "    </tr>\n",
       "    <tr>\n",
       "      <th>15</th>\n",
       "      <td>ST2023-021</td>\n",
       "      <td>My internet connection is frequently dropping,...</td>\n",
       "      <td>Internet Connection Issues</td>\n",
       "      <td>InternetConnectionDropouts, WorkInterruption</td>\n",
       "      <td>High</td>\n",
       "      <td>12-24 Hours</td>\n",
       "      <td>We apologize for the inconvenience caused by t...</td>\n",
       "    </tr>\n",
       "    <tr>\n",
       "      <th>16</th>\n",
       "      <td>ST2023-022</td>\n",
       "      <td>Wi-Fi is inconsistent despite proximity to the...</td>\n",
       "      <td>Wi-Fi Issues</td>\n",
       "      <td>Wi-Fi consistency, connectivity issues, work p...</td>\n",
       "      <td>Medium</td>\n",
       "      <td>6-12 hours</td>\n",
       "      <td>Dear [User], we apologize for the inconvenienc...</td>\n",
       "    </tr>\n",
       "    <tr>\n",
       "      <th>17</th>\n",
       "      <td>ST2023-023</td>\n",
       "      <td>I accidentally formatted my USB drive with cru...</td>\n",
       "      <td>Data Recovery</td>\n",
       "      <td>Data Recovery, Accidental Format</td>\n",
       "      <td>Medium</td>\n",
       "      <td>12-24 Hours</td>\n",
       "      <td>We understand the urgency of the situation and...</td>\n",
       "    </tr>\n",
       "    <tr>\n",
       "      <th>18</th>\n",
       "      <td>ST2023-024</td>\n",
       "      <td>My external hard drive isn't being recognized,...</td>\n",
       "      <td>Data Recovery</td>\n",
       "      <td>Data Recovery, Hardware Issues</td>\n",
       "      <td>Medium</td>\n",
       "      <td>12-24 Hours</td>\n",
       "      <td>Thank you for reaching out to us with your iss...</td>\n",
       "    </tr>\n",
       "    <tr>\n",
       "      <th>19</th>\n",
       "      <td>ST2023-025</td>\n",
       "      <td>I am experiencing a critical problem with my i...</td>\n",
       "      <td>Internet Connectivity</td>\n",
       "      <td>Internet Connectivity Issues, Productivity Loss</td>\n",
       "      <td>High</td>\n",
       "      <td>12-24 Hours</td>\n",
       "      <td>Thank you for reaching out to us regarding you...</td>\n",
       "    </tr>\n",
       "    <tr>\n",
       "      <th>20</th>\n",
       "      <td>ST2023-026</td>\n",
       "      <td>I hope this message finds you well. I am writi...</td>\n",
       "      <td>Software Issue</td>\n",
       "      <td>Software Issue, Data Loss</td>\n",
       "      <td>Medium</td>\n",
       "      <td>12-24 Hours</td>\n",
       "      <td>Thank you for reaching out to us regarding the...</td>\n",
       "    </tr>\n",
       "  </tbody>\n",
       "</table>\n",
       "</div>\n",
       "    <div class=\"colab-df-buttons\">\n",
       "\n",
       "  <div class=\"colab-df-container\">\n",
       "    <button class=\"colab-df-convert\" onclick=\"convertToInteractive('df-9385d3ff-1d52-436d-b8cc-6c3873e54e6d')\"\n",
       "            title=\"Convert this dataframe to an interactive table.\"\n",
       "            style=\"display:none;\">\n",
       "\n",
       "  <svg xmlns=\"http://www.w3.org/2000/svg\" height=\"24px\" viewBox=\"0 -960 960 960\">\n",
       "    <path d=\"M120-120v-720h720v720H120Zm60-500h600v-160H180v160Zm220 220h160v-160H400v160Zm0 220h160v-160H400v160ZM180-400h160v-160H180v160Zm440 0h160v-160H620v160ZM180-180h160v-160H180v160Zm440 0h160v-160H620v160Z\"/>\n",
       "  </svg>\n",
       "    </button>\n",
       "\n",
       "  <style>\n",
       "    .colab-df-container {\n",
       "      display:flex;\n",
       "      gap: 12px;\n",
       "    }\n",
       "\n",
       "    .colab-df-convert {\n",
       "      background-color: #E8F0FE;\n",
       "      border: none;\n",
       "      border-radius: 50%;\n",
       "      cursor: pointer;\n",
       "      display: none;\n",
       "      fill: #1967D2;\n",
       "      height: 32px;\n",
       "      padding: 0 0 0 0;\n",
       "      width: 32px;\n",
       "    }\n",
       "\n",
       "    .colab-df-convert:hover {\n",
       "      background-color: #E2EBFA;\n",
       "      box-shadow: 0px 1px 2px rgba(60, 64, 67, 0.3), 0px 1px 3px 1px rgba(60, 64, 67, 0.15);\n",
       "      fill: #174EA6;\n",
       "    }\n",
       "\n",
       "    .colab-df-buttons div {\n",
       "      margin-bottom: 4px;\n",
       "    }\n",
       "\n",
       "    [theme=dark] .colab-df-convert {\n",
       "      background-color: #3B4455;\n",
       "      fill: #D2E3FC;\n",
       "    }\n",
       "\n",
       "    [theme=dark] .colab-df-convert:hover {\n",
       "      background-color: #434B5C;\n",
       "      box-shadow: 0px 1px 3px 1px rgba(0, 0, 0, 0.15);\n",
       "      filter: drop-shadow(0px 1px 2px rgba(0, 0, 0, 0.3));\n",
       "      fill: #FFFFFF;\n",
       "    }\n",
       "  </style>\n",
       "\n",
       "    <script>\n",
       "      const buttonEl =\n",
       "        document.querySelector('#df-9385d3ff-1d52-436d-b8cc-6c3873e54e6d button.colab-df-convert');\n",
       "      buttonEl.style.display =\n",
       "        google.colab.kernel.accessAllowed ? 'block' : 'none';\n",
       "\n",
       "      async function convertToInteractive(key) {\n",
       "        const element = document.querySelector('#df-9385d3ff-1d52-436d-b8cc-6c3873e54e6d');\n",
       "        const dataTable =\n",
       "          await google.colab.kernel.invokeFunction('convertToInteractive',\n",
       "                                                    [key], {});\n",
       "        if (!dataTable) return;\n",
       "\n",
       "        const docLinkHtml = 'Like what you see? Visit the ' +\n",
       "          '<a target=\"_blank\" href=https://colab.research.google.com/notebooks/data_table.ipynb>data table notebook</a>'\n",
       "          + ' to learn more about interactive tables.';\n",
       "        element.innerHTML = '';\n",
       "        dataTable['output_type'] = 'display_data';\n",
       "        await google.colab.output.renderOutput(dataTable, element);\n",
       "        const docLink = document.createElement('div');\n",
       "        docLink.innerHTML = docLinkHtml;\n",
       "        element.appendChild(docLink);\n",
       "      }\n",
       "    </script>\n",
       "  </div>\n",
       "\n",
       "\n",
       "<div id=\"df-c0d578e3-3af4-4ae2-a04f-dd3b691acc35\">\n",
       "  <button class=\"colab-df-quickchart\" onclick=\"quickchart('df-c0d578e3-3af4-4ae2-a04f-dd3b691acc35')\"\n",
       "            title=\"Suggest charts\"\n",
       "            style=\"display:none;\">\n",
       "\n",
       "<svg xmlns=\"http://www.w3.org/2000/svg\" height=\"24px\"viewBox=\"0 0 24 24\"\n",
       "     width=\"24px\">\n",
       "    <g>\n",
       "        <path d=\"M19 3H5c-1.1 0-2 .9-2 2v14c0 1.1.9 2 2 2h14c1.1 0 2-.9 2-2V5c0-1.1-.9-2-2-2zM9 17H7v-7h2v7zm4 0h-2V7h2v10zm4 0h-2v-4h2v4z\"/>\n",
       "    </g>\n",
       "</svg>\n",
       "  </button>\n",
       "\n",
       "<style>\n",
       "  .colab-df-quickchart {\n",
       "      --bg-color: #E8F0FE;\n",
       "      --fill-color: #1967D2;\n",
       "      --hover-bg-color: #E2EBFA;\n",
       "      --hover-fill-color: #174EA6;\n",
       "      --disabled-fill-color: #AAA;\n",
       "      --disabled-bg-color: #DDD;\n",
       "  }\n",
       "\n",
       "  [theme=dark] .colab-df-quickchart {\n",
       "      --bg-color: #3B4455;\n",
       "      --fill-color: #D2E3FC;\n",
       "      --hover-bg-color: #434B5C;\n",
       "      --hover-fill-color: #FFFFFF;\n",
       "      --disabled-bg-color: #3B4455;\n",
       "      --disabled-fill-color: #666;\n",
       "  }\n",
       "\n",
       "  .colab-df-quickchart {\n",
       "    background-color: var(--bg-color);\n",
       "    border: none;\n",
       "    border-radius: 50%;\n",
       "    cursor: pointer;\n",
       "    display: none;\n",
       "    fill: var(--fill-color);\n",
       "    height: 32px;\n",
       "    padding: 0;\n",
       "    width: 32px;\n",
       "  }\n",
       "\n",
       "  .colab-df-quickchart:hover {\n",
       "    background-color: var(--hover-bg-color);\n",
       "    box-shadow: 0 1px 2px rgba(60, 64, 67, 0.3), 0 1px 3px 1px rgba(60, 64, 67, 0.15);\n",
       "    fill: var(--button-hover-fill-color);\n",
       "  }\n",
       "\n",
       "  .colab-df-quickchart-complete:disabled,\n",
       "  .colab-df-quickchart-complete:disabled:hover {\n",
       "    background-color: var(--disabled-bg-color);\n",
       "    fill: var(--disabled-fill-color);\n",
       "    box-shadow: none;\n",
       "  }\n",
       "\n",
       "  .colab-df-spinner {\n",
       "    border: 2px solid var(--fill-color);\n",
       "    border-color: transparent;\n",
       "    border-bottom-color: var(--fill-color);\n",
       "    animation:\n",
       "      spin 1s steps(1) infinite;\n",
       "  }\n",
       "\n",
       "  @keyframes spin {\n",
       "    0% {\n",
       "      border-color: transparent;\n",
       "      border-bottom-color: var(--fill-color);\n",
       "      border-left-color: var(--fill-color);\n",
       "    }\n",
       "    20% {\n",
       "      border-color: transparent;\n",
       "      border-left-color: var(--fill-color);\n",
       "      border-top-color: var(--fill-color);\n",
       "    }\n",
       "    30% {\n",
       "      border-color: transparent;\n",
       "      border-left-color: var(--fill-color);\n",
       "      border-top-color: var(--fill-color);\n",
       "      border-right-color: var(--fill-color);\n",
       "    }\n",
       "    40% {\n",
       "      border-color: transparent;\n",
       "      border-right-color: var(--fill-color);\n",
       "      border-top-color: var(--fill-color);\n",
       "    }\n",
       "    60% {\n",
       "      border-color: transparent;\n",
       "      border-right-color: var(--fill-color);\n",
       "    }\n",
       "    80% {\n",
       "      border-color: transparent;\n",
       "      border-right-color: var(--fill-color);\n",
       "      border-bottom-color: var(--fill-color);\n",
       "    }\n",
       "    90% {\n",
       "      border-color: transparent;\n",
       "      border-bottom-color: var(--fill-color);\n",
       "    }\n",
       "  }\n",
       "</style>\n",
       "\n",
       "  <script>\n",
       "    async function quickchart(key) {\n",
       "      const quickchartButtonEl =\n",
       "        document.querySelector('#' + key + ' button');\n",
       "      quickchartButtonEl.disabled = true;  // To prevent multiple clicks.\n",
       "      quickchartButtonEl.classList.add('colab-df-spinner');\n",
       "      try {\n",
       "        const charts = await google.colab.kernel.invokeFunction(\n",
       "            'suggestCharts', [key], {});\n",
       "      } catch (error) {\n",
       "        console.error('Error during call to suggestCharts:', error);\n",
       "      }\n",
       "      quickchartButtonEl.classList.remove('colab-df-spinner');\n",
       "      quickchartButtonEl.classList.add('colab-df-quickchart-complete');\n",
       "    }\n",
       "    (() => {\n",
       "      let quickchartButtonEl =\n",
       "        document.querySelector('#df-c0d578e3-3af4-4ae2-a04f-dd3b691acc35 button');\n",
       "      quickchartButtonEl.style.display =\n",
       "        google.colab.kernel.accessAllowed ? 'block' : 'none';\n",
       "    })();\n",
       "  </script>\n",
       "</div>\n",
       "\n",
       "  <div id=\"id_9c51bbc4-c0e2-4a54-a888-664fdfcb49fd\">\n",
       "    <style>\n",
       "      .colab-df-generate {\n",
       "        background-color: #E8F0FE;\n",
       "        border: none;\n",
       "        border-radius: 50%;\n",
       "        cursor: pointer;\n",
       "        display: none;\n",
       "        fill: #1967D2;\n",
       "        height: 32px;\n",
       "        padding: 0 0 0 0;\n",
       "        width: 32px;\n",
       "      }\n",
       "\n",
       "      .colab-df-generate:hover {\n",
       "        background-color: #E2EBFA;\n",
       "        box-shadow: 0px 1px 2px rgba(60, 64, 67, 0.3), 0px 1px 3px 1px rgba(60, 64, 67, 0.15);\n",
       "        fill: #174EA6;\n",
       "      }\n",
       "\n",
       "      [theme=dark] .colab-df-generate {\n",
       "        background-color: #3B4455;\n",
       "        fill: #D2E3FC;\n",
       "      }\n",
       "\n",
       "      [theme=dark] .colab-df-generate:hover {\n",
       "        background-color: #434B5C;\n",
       "        box-shadow: 0px 1px 3px 1px rgba(0, 0, 0, 0.15);\n",
       "        filter: drop-shadow(0px 1px 2px rgba(0, 0, 0, 0.3));\n",
       "        fill: #FFFFFF;\n",
       "      }\n",
       "    </style>\n",
       "    <button class=\"colab-df-generate\" onclick=\"generateWithVariable('data_1')\"\n",
       "            title=\"Generate code using this dataframe.\"\n",
       "            style=\"display:none;\">\n",
       "\n",
       "  <svg xmlns=\"http://www.w3.org/2000/svg\" height=\"24px\"viewBox=\"0 0 24 24\"\n",
       "       width=\"24px\">\n",
       "    <path d=\"M7,19H8.4L18.45,9,17,7.55,7,17.6ZM5,21V16.75L18.45,3.32a2,2,0,0,1,2.83,0l1.4,1.43a1.91,1.91,0,0,1,.58,1.4,1.91,1.91,0,0,1-.58,1.4L9.25,21ZM18.45,9,17,7.55Zm-12,3A5.31,5.31,0,0,0,4.9,8.1,5.31,5.31,0,0,0,1,6.5,5.31,5.31,0,0,0,4.9,4.9,5.31,5.31,0,0,0,6.5,1,5.31,5.31,0,0,0,8.1,4.9,5.31,5.31,0,0,0,12,6.5,5.46,5.46,0,0,0,6.5,12Z\"/>\n",
       "  </svg>\n",
       "    </button>\n",
       "    <script>\n",
       "      (() => {\n",
       "      const buttonEl =\n",
       "        document.querySelector('#id_9c51bbc4-c0e2-4a54-a888-664fdfcb49fd button.colab-df-generate');\n",
       "      buttonEl.style.display =\n",
       "        google.colab.kernel.accessAllowed ? 'block' : 'none';\n",
       "\n",
       "      buttonEl.onclick = () => {\n",
       "        google.colab.notebook.generateWithVariable('data_1');\n",
       "      }\n",
       "      })();\n",
       "    </script>\n",
       "  </div>\n",
       "\n",
       "    </div>\n",
       "  </div>\n"
      ],
      "text/plain": [
       "   support_tick_id                                support_ticket_text  \\\n",
       "0       ST2023-006  My internet connection has significantly slowe...   \n",
       "1       ST2023-007  Urgent help required! My laptop refuses to sta...   \n",
       "2       ST2023-008  I've accidentally deleted essential work docum...   \n",
       "3       ST2023-009  Despite being in close proximity to my Wi-Fi r...   \n",
       "4       ST2023-010  My smartphone battery is draining rapidly, eve...   \n",
       "5       ST2023-011  I'm locked out of my online banking account an...   \n",
       "6       ST2023-012  My computer's performance is sluggish, severel...   \n",
       "7       ST2023-013  I'm experiencing a recurring blue screen error...   \n",
       "8       ST2023-014  My external hard drive isn't being recognized ...   \n",
       "9       ST2023-015  The graphics card in my gaming laptop seems to...   \n",
       "10      ST2023-016  I accidentally formatted my USB drive with cri...   \n",
       "11      ST2023-017  My computer's screen has gone black, and I can...   \n",
       "12      ST2023-018  I accidentally spilled water on my laptop, and...   \n",
       "13      ST2023-019  My USB flash drive is physically damaged, and ...   \n",
       "14      ST2023-020  The touchpad on my laptop has stopped working,...   \n",
       "15      ST2023-021  My internet connection is frequently dropping,...   \n",
       "16      ST2023-022  Wi-Fi is inconsistent despite proximity to the...   \n",
       "17      ST2023-023  I accidentally formatted my USB drive with cru...   \n",
       "18      ST2023-024  My external hard drive isn't being recognized,...   \n",
       "19      ST2023-025  I am experiencing a critical problem with my i...   \n",
       "20      ST2023-026  I hope this message finds you well. I am writi...   \n",
       "\n",
       "                        Category  \\\n",
       "0   Internet Connectivity Issues   \n",
       "1                 Hardware Issue   \n",
       "2                  Data Recovery   \n",
       "3            Wi-Fi Signal Issues   \n",
       "4                  Battery Issue   \n",
       "5                 Password Reset   \n",
       "6             Performance Issues   \n",
       "7                 Hardware Issue   \n",
       "8                  Data Recovery   \n",
       "9                 Hardware Issue   \n",
       "10                 Data Recovery   \n",
       "11                Hardware Issue   \n",
       "12                  Water Damage   \n",
       "13               Physical Damage   \n",
       "14                Hardware Issue   \n",
       "15    Internet Connection Issues   \n",
       "16                  Wi-Fi Issues   \n",
       "17                 Data Recovery   \n",
       "18                 Data Recovery   \n",
       "19         Internet Connectivity   \n",
       "20                Software Issue   \n",
       "\n",
       "                                                  Tag Priority          ETA  \\\n",
       "0        Internet Connectivity Issues, Disconnections     High  12-24 Hours   \n",
       "1        Hardware Failure, Urgent Assistance Required     High    Immediate   \n",
       "2                         Data Loss, Priority Request     High    Immediate   \n",
       "3           Weak Wi-Fi Signal, Troubleshooting Issues   Medium  12-24 Hours   \n",
       "4                      Battery Drain, Rapid Discharge   Medium  12-24 Hours   \n",
       "5         urgent transaction, password reset, lockout     High  12-24 Hours   \n",
       "6                   performance_issues, slow_computer   Medium  12-24 Hours   \n",
       "7                   blue_screen_error, hardware_issue   Medium  12-24 Hours   \n",
       "8                      Data Recovery, Hardware Issues   Medium  12-24 Hours   \n",
       "9           Hardware Issue, Graphics Card Malfunction     High  12-24 Hours   \n",
       "10                          Data Loss, File Retrieval   Medium  12-24 Hours   \n",
       "11                       Hardware Issue, Black Screen     High  12-24 Hours   \n",
       "12                        Water Damage, Data Recovery   Medium  12-24 Hours   \n",
       "13                     Physical Damage, File Recovery   Medium  12-24 Hours   \n",
       "14                     hardware_issue, touchpad_issue   Medium  12-24 Hours   \n",
       "15       InternetConnectionDropouts, WorkInterruption     High  12-24 Hours   \n",
       "16  Wi-Fi consistency, connectivity issues, work p...   Medium   6-12 hours   \n",
       "17                   Data Recovery, Accidental Format   Medium  12-24 Hours   \n",
       "18                     Data Recovery, Hardware Issues   Medium  12-24 Hours   \n",
       "19    Internet Connectivity Issues, Productivity Loss     High  12-24 Hours   \n",
       "20                          Software Issue, Data Loss   Medium  12-24 Hours   \n",
       "\n",
       "                                             Response  \n",
       "0   We apologize for the inconvenience caused by t...  \n",
       "1   I apologize for the inconvenience you are faci...  \n",
       "2   We apologize for the inconvenience caused by t...  \n",
       "3   Thank you for reaching out to us regarding you...  \n",
       "4   Thank you for reaching out to us! We're here t...  \n",
       "5   We apologize for the inconvenience! We have re...  \n",
       "6   Thank you for reaching out! Based on the infor...  \n",
       "7   Thank you for reaching out to us! We apologize...  \n",
       "8   Thank you for reaching out to us! We understan...  \n",
       "9   Thank you for reaching out to us! We're sorry ...  \n",
       "10  We understand the urgency of your situation an...  \n",
       "11  We apologize for the inconvenience you are fac...  \n",
       "12  Sorry to hear that you accidentally spilled wa...  \n",
       "13  Thank you for reaching out to us! We understan...  \n",
       "14  Thank you for reaching out to us! We're sorry ...  \n",
       "15  We apologize for the inconvenience caused by t...  \n",
       "16  Dear [User], we apologize for the inconvenienc...  \n",
       "17  We understand the urgency of the situation and...  \n",
       "18  Thank you for reaching out to us with your iss...  \n",
       "19  Thank you for reaching out to us regarding you...  \n",
       "20  Thank you for reaching out to us regarding the...  "
      ]
     },
     "execution_count": 76,
     "metadata": {},
     "output_type": "execute_result"
    }
   ],
   "source": [
    "#Printing the final dataframe\n",
    "data_1"
   ]
  },
  {
   "cell_type": "code",
   "execution_count": null,
   "metadata": {
    "id": "ItEw4T9EE4lb"
   },
   "outputs": [],
   "source": [
    "#Saving the final dataframe in csv format\n",
    "data_1.to_csv('/content/drive/MyDrive/NLP_Project/final_support_ticket_data.csv')"
   ]
  },
  {
   "cell_type": "markdown",
   "metadata": {
    "id": "XDcLz9qQ-DM9"
   },
   "source": [
    "### Univariate Analysis"
   ]
  },
  {
   "cell_type": "code",
   "execution_count": null,
   "metadata": {
    "colab": {
     "base_uri": "https://localhost:8080/",
     "height": 513
    },
    "id": "AAsTXKqSE4i4",
    "outputId": "c959bfd7-8234-40f8-8aa3-34b0f9a83881"
   },
   "outputs": [
    {
     "data": {
      "image/png": "[encoded data removed]",
      "text/plain": [
       "<Figure size 1000x300 with 1 Axes>"
      ]
     },
     "metadata": {},
     "output_type": "display_data"
    }
   ],
   "source": [
    "#Plotting the countplot for the categories assigned by the model\n",
    "plt.figure(figsize=(10,3));\n",
    "sns.countplot(data=data_1,x='Category', palette='viridis');\n",
    "plt.title('Countplot of the Categories assigned');\n",
    "plt.xticks(rotation=90);"
   ]
  },
  {
   "cell_type": "code",
   "execution_count": null,
   "metadata": {
    "colab": {
     "base_uri": "https://localhost:8080/",
     "height": 375
    },
    "id": "-dHy6E0pE4gt",
    "outputId": "c24abb45-34e2-461f-e815-0da263a4dab2"
   },
   "outputs": [
    {
     "data": {
      "image/png": "[encoded data removed]",
      "text/plain": [
       "<Figure size 1000x300 with 1 Axes>"
      ]
     },
     "metadata": {},
     "output_type": "display_data"
    }
   ],
   "source": [
    "#Plotting the countplot for the priorities assigned by the model\n",
    "plt.figure(figsize=(10,3));\n",
    "sns.countplot(data=data_1,x='Priority', palette='viridis');\n",
    "plt.title('Countplot of the Priorities assigned');\n",
    "plt.xticks(rotation=90);"
   ]
  },
  {
   "cell_type": "code",
   "execution_count": null,
   "metadata": {
    "colab": {
     "base_uri": "https://localhost:8080/",
     "height": 404
    },
    "id": "ZMri-OU4E4el",
    "outputId": "6443c2f0-61e3-4f08-91a0-4f2aafd9565f"
   },
   "outputs": [
    {
     "data": {
      "image/png": "[encoded data removed]",
      "text/plain": [
       "<Figure size 1000x300 with 1 Axes>"
      ]
     },
     "metadata": {},
     "output_type": "display_data"
    }
   ],
   "source": [
    "#Plotting the countplot for the ETAs assigned by the model\n",
    "plt.figure(figsize=(10,3));\n",
    "sns.countplot(data=data_1,x='ETA', palette='viridis');\n",
    "plt.title('Countplot of the ETAs assigned');\n",
    "plt.xticks(rotation=90);"
   ]
  },
  {
   "cell_type": "code",
   "execution_count": null,
   "metadata": {
    "colab": {
     "base_uri": "https://localhost:8080/",
     "height": 521
    },
    "id": "8PhUR1h6E4bb",
    "outputId": "dfe159f4-f537-46e9-ac6e-53d9ddd167d5"
   },
   "outputs": [
    {
     "data": {
      "image/png": "[encoded data removed]",
      "text/plain": [
       "<Figure size 800x600 with 1 Axes>"
      ]
     },
     "metadata": {},
     "output_type": "display_data"
    }
   ],
   "source": [
    "#Plotting the pie-chart for the priorities distribution\n",
    "priority_counts = data_1['Priority'].value_counts()\n",
    "\n",
    "plt.figure(figsize=(8, 6));\n",
    "plt.pie(priority_counts, labels=priority_counts.index, autopct='%1.1f%%', startangle=140);\n",
    "plt.title('Priority Distribution');\n",
    "plt.axis('equal');\n",
    "plt.show();"
   ]
  },
  {
   "cell_type": "code",
   "execution_count": null,
   "metadata": {
    "colab": {
     "base_uri": "https://localhost:8080/",
     "height": 521
    },
    "id": "31z6BWXhE4W3",
    "outputId": "ee553de6-fc5a-4134-bba2-c009cfbf505d"
   },
   "outputs": [
    {
     "data": {
      "image/png": "[encoded data removed]",
      "text/plain": [
       "<Figure size 800x600 with 1 Axes>"
      ]
     },
     "metadata": {},
     "output_type": "display_data"
    }
   ],
   "source": [
    "#Plotting the pie-chart for the ETAs distribution\n",
    "ETA_counts = data_1['ETA'].value_counts()\n",
    "\n",
    "plt.figure(figsize=(8, 6));\n",
    "plt.pie(ETA_counts, labels=ETA_counts.index, autopct='%1.1f%%', startangle=140);\n",
    "plt.title('ETA Distribution');\n",
    "plt.axis('equal');\n",
    "plt.show();"
   ]
  },
  {
   "cell_type": "code",
   "execution_count": null,
   "metadata": {
    "colab": {
     "base_uri": "https://localhost:8080/",
     "height": 528
    },
    "id": "_ti0Iq-tE4S7",
    "outputId": "a8a7af39-c70b-4448-9611-e20febc315a0"
   },
   "outputs": [
    {
     "data": {
      "image/png": "[encoded data removed]",
      "text/plain": [
       "<Figure size 800x600 with 1 Axes>"
      ]
     },
     "metadata": {},
     "output_type": "display_data"
    }
   ],
   "source": [
    "#Plotting the pie-chart for the categories distribution\n",
    "Cat_counts = data_1['Category'].value_counts()\n",
    "\n",
    "plt.figure(figsize=(8, 6));\n",
    "plt.pie(Cat_counts, labels=Cat_counts.index, autopct='%1.1f%%', startangle=140);\n",
    "plt.title('Category Distribution');\n",
    "plt.axis('equal');\n",
    "plt.show();"
   ]
  },
  {
   "cell_type": "markdown",
   "metadata": {
    "id": "XR25cRqYKDOt"
   },
   "source": [
    "**Observations from the Univariate Analysis**\n",
    "- The model has identified most of the issues under the categories Hardware or Data Recovery related issues\n",
    "- The identified categories are quite accurate as identified by manually reviewing the issues\n",
    "- There are however some issues which can be clubbed together, but are are categorized separately. For example, Internet Connectivity Issues, Internet Connection Issues, Internet Connectivity can be clubbed as one category\n",
    "- The identified Tags are also accurate and can be used to group the issues\n",
    "- All the issues have been assigned either High or Medium Priority. Maybe specifying conditions for assigning High/Medium/Low priority can help the model determine appropriate priorities\n",
    "- The assigned ETAs are also either Immediate, 6-12 Hours and 12-24 Hours, with most being 12-24 Hpurs. For this as well specifying conditions for assigning ETA might help\n"
   ]
  },
  {
   "cell_type": "markdown",
   "metadata": {},
   "source": [
    "# Conclusion"
   ]
  },
  {
   "cell_type": "markdown",
   "metadata": {
    "id": "28X_-udXOPNj"
   },
   "source": [
    "Based on this exercise it can be concluded that LLMs can help automate alot of manual and tiresome work and improve the efficiency and turnaround time for companies. Summarizing my observations and recommendations below:\n",
    "\n",
    "**Observations**\n",
    "- LLMs like Llama and Mistral are good at deciphering the context of the given text.\n",
    "- They can understand the given issue and classify then into categories, assign priorities and ETAs and also generate appropriate responses to be sent towards the customers\n",
    "- They can also format the output in the specified format, like JSON, which makes it easier to extract the text, which further helps in automating the tasks\n",
    "- The responses generated by LLMs are very realistic, as if written by a human beings\n",
    "- The prompts for the model should be very clear and unambiguous for the model to provide good and correct response. If the prompts are not clear or specific, then the responses are not accurate\n",
    "\n",
    "**Recommendations**\n",
    "- Businesses can utilize LLMs to automate many manual tasks, which can improve the efficiency and the response time\n",
    "- The business process can be streamlined as well, by utilizing the outputs from the LLMs. For example, using the categories and tags the support tickets can be routed to appropriate departments and using the priorities and ETAs the support team can plan for resolving the issues\n",
    "- On the flipside, the prompts used for the LLM should be crisp and clear, without any ambiguity in the task to be performed. This requires excellent Prompt Engineering skills to be employed by the businesses\n",
    "- Another aspect is the cost of operating LLMs. LLMs require GPUs to run and execute tasks. If Continuous issue monitoring is needed, then the GPUs must be running continuously, which is quite expensive\n",
    "- Business must also be careful of LLM hallucinations and must plan for high quality prompt engineering and periodic reviews to avoid bad user experience\n",
    "- Based on the pointers given above, enterprises must weigh-in the cost vs benefit before deploying LLMs for business processes"
   ]
  },
  {
   "cell_type": "code",
   "execution_count": null,
   "metadata": {
    "id": "tkLCSh1NNR_H"
   },
   "outputs": [],
   "source": []
  },
  {
   "cell_type": "code",
   "execution_count": null,
   "metadata": {
    "id": "ZHI4HLvxE4MR"
   },
   "outputs": [],
   "source": []
  },
  {
   "cell_type": "code",
   "execution_count": null,
   "metadata": {
    "id": "1IgRGzoTE3_s"
   },
   "outputs": [],
   "source": []
  }
 ],
 "metadata": {
  "accelerator": "GPU",
  "colab": {
   "gpuType": "T4",
   "provenance": []
  },
  "kernelspec": {
   "display_name": "Python 3 (ipykernel)",
   "language": "python",
   "name": "python3"
  },
  "language_info": {
   "codemirror_mode": {
    "name": "ipython",
    "version": 3
   },
   "file_extension": ".py",
   "mimetype": "text/x-python",
   "name": "python",
   "nbconvert_exporter": "python",
   "pygments_lexer": "ipython3",
   "version": "3.11.4"
  },
  "varInspector": {
   "cols": {
    "lenName": 16,
    "lenType": 16,
    "lenVar": 40
   },
   "kernels_config": {
    "python": {
     "delete_cmd_postfix": "",
     "delete_cmd_prefix": "del ",
     "library": "var_list.py",
     "varRefreshCmd": "print(var_dic_list())"
    },
    "r": {
     "delete_cmd_postfix": ") ",
     "delete_cmd_prefix": "rm(",
     "library": "var_list.r",
     "varRefreshCmd": "cat(var_dic_list()) "
    }
   },
   "types_to_exclude": [
    "module",
    "function",
    "builtin_function_or_method",
    "instance",
    "_Feature"
   ],
   "window_display": false
  },
  "widgets": {
   "application/vnd.jupyter.widget-state+json": {
    "1868d5d2d01245fc97d7c1f4cfaf1c4e": {
     "model_module": "@jupyter-widgets/controls",
     "model_module_version": "1.5.0",
     "model_name": "HTMLModel",
     "state": {
      "_dom_classes": [],
      "_model_module": "@jupyter-widgets/controls",
      "_model_module_version": "1.5.0",
      "_model_name": "HTMLModel",
      "_view_count": null,
      "_view_module": "@jupyter-widgets/controls",
      "_view_module_version": "1.5.0",
      "_view_name": "HTMLView",
      "description": "",
      "description_tooltip": null,
      "layout": "IPY_MODEL_2c6b1d746a9741a3bc4dad53276909c2",
      "placeholder": "​",
      "style": "IPY_MODEL_2f09427e9a6f4aa3b45d501a4c73b7b5",
      "value": " 9.23G/9.23G [12:20&lt;00:00, 16.1MB/s]"
     }
    },
    "2c6b1d746a9741a3bc4dad53276909c2": {
     "model_module": "@jupyter-widgets/base",
     "model_module_version": "1.2.0",
     "model_name": "LayoutModel",
     "state": {
      "_model_module": "@jupyter-widgets/base",
      "_model_module_version": "1.2.0",
      "_model_name": "LayoutModel",
      "_view_count": null,
      "_view_module": "@jupyter-widgets/base",
      "_view_module_version": "1.2.0",
      "_view_name": "LayoutView",
      "align_content": null,
      "align_items": null,
      "align_self": null,
      "border": null,
      "bottom": null,
      "display": null,
      "flex": null,
      "flex_flow": null,
      "grid_area": null,
      "grid_auto_columns": null,
      "grid_auto_flow": null,
      "grid_auto_rows": null,
      "grid_column": null,
      "grid_gap": null,
      "grid_row": null,
      "grid_template_areas": null,
      "grid_template_columns": null,
      "grid_template_rows": null,
      "height": null,
      "justify_content": null,
      "justify_items": null,
      "left": null,
      "margin": null,
      "max_height": null,
      "max_width": null,
      "min_height": null,
      "min_width": null,
      "object_fit": null,
      "object_position": null,
      "order": null,
      "overflow": null,
      "overflow_x": null,
      "overflow_y": null,
      "padding": null,
      "right": null,
      "top": null,
      "visibility": null,
      "width": null
     }
    },
    "2f09427e9a6f4aa3b45d501a4c73b7b5": {
     "model_module": "@jupyter-widgets/controls",
     "model_module_version": "1.5.0",
     "model_name": "DescriptionStyleModel",
     "state": {
      "_model_module": "@jupyter-widgets/controls",
      "_model_module_version": "1.5.0",
      "_model_name": "DescriptionStyleModel",
      "_view_count": null,
      "_view_module": "@jupyter-widgets/base",
      "_view_module_version": "1.2.0",
      "_view_name": "StyleView",
      "description_width": ""
     }
    },
    "3c70db9c0d894be48db812ff22a1dee8": {
     "model_module": "@jupyter-widgets/controls",
     "model_module_version": "1.5.0",
     "model_name": "HTMLModel",
     "state": {
      "_dom_classes": [],
      "_model_module": "@jupyter-widgets/controls",
      "_model_module_version": "1.5.0",
      "_model_name": "HTMLModel",
      "_view_count": null,
      "_view_module": "@jupyter-widgets/controls",
      "_view_module_version": "1.5.0",
      "_view_name": "HTMLView",
      "description": "",
      "description_tooltip": null,
      "layout": "IPY_MODEL_f91305fc85264c5e94f554494f4f4c5b",
      "placeholder": "​",
      "style": "IPY_MODEL_6a9164919e0c4bb2ac46b79f2c1eef29",
      "value": "llama-2-13b-chat.Q5_K_M.gguf: 100%"
     }
    },
    "69b6bb8ba98449c48fdb4cbfc0b09644": {
     "model_module": "@jupyter-widgets/controls",
     "model_module_version": "1.5.0",
     "model_name": "FloatProgressModel",
     "state": {
      "_dom_classes": [],
      "_model_module": "@jupyter-widgets/controls",
      "_model_module_version": "1.5.0",
      "_model_name": "FloatProgressModel",
      "_view_count": null,
      "_view_module": "@jupyter-widgets/controls",
      "_view_module_version": "1.5.0",
      "_view_name": "ProgressView",
      "bar_style": "success",
      "description": "",
      "description_tooltip": null,
      "layout": "IPY_MODEL_d227d99f515546dcaa2a97f2e9725120",
      "max": 9229924224,
      "min": 0,
      "orientation": "horizontal",
      "style": "IPY_MODEL_b1673ea48d16430db628a761bc6406c3",
      "value": 9229924224
     }
    },
    "6a9164919e0c4bb2ac46b79f2c1eef29": {
     "model_module": "@jupyter-widgets/controls",
     "model_module_version": "1.5.0",
     "model_name": "DescriptionStyleModel",
     "state": {
      "_model_module": "@jupyter-widgets/controls",
      "_model_module_version": "1.5.0",
      "_model_name": "DescriptionStyleModel",
      "_view_count": null,
      "_view_module": "@jupyter-widgets/base",
      "_view_module_version": "1.2.0",
      "_view_name": "StyleView",
      "description_width": ""
     }
    },
    "7036a3db94814cb1a41c50518aec9a2c": {
     "model_module": "@jupyter-widgets/base",
     "model_module_version": "1.2.0",
     "model_name": "LayoutModel",
     "state": {
      "_model_module": "@jupyter-widgets/base",
      "_model_module_version": "1.2.0",
      "_model_name": "LayoutModel",
      "_view_count": null,
      "_view_module": "@jupyter-widgets/base",
      "_view_module_version": "1.2.0",
      "_view_name": "LayoutView",
      "align_content": null,
      "align_items": null,
      "align_self": null,
      "border": null,
      "bottom": null,
      "display": null,
      "flex": null,
      "flex_flow": null,
      "grid_area": null,
      "grid_auto_columns": null,
      "grid_auto_flow": null,
      "grid_auto_rows": null,
      "grid_column": null,
      "grid_gap": null,
      "grid_row": null,
      "grid_template_areas": null,
      "grid_template_columns": null,
      "grid_template_rows": null,
      "height": null,
      "justify_content": null,
      "justify_items": null,
      "left": null,
      "margin": null,
      "max_height": null,
      "max_width": null,
      "min_height": null,
      "min_width": null,
      "object_fit": null,
      "object_position": null,
      "order": null,
      "overflow": null,
      "overflow_x": null,
      "overflow_y": null,
      "padding": null,
      "right": null,
      "top": null,
      "visibility": null,
      "width": null
     }
    },
    "77fc14a1af364fa2a6d4b75b00fb3e62": {
     "model_module": "@jupyter-widgets/controls",
     "model_module_version": "1.5.0",
     "model_name": "HBoxModel",
     "state": {
      "_dom_classes": [],
      "_model_module": "@jupyter-widgets/controls",
      "_model_module_version": "1.5.0",
      "_model_name": "HBoxModel",
      "_view_count": null,
      "_view_module": "@jupyter-widgets/controls",
      "_view_module_version": "1.5.0",
      "_view_name": "HBoxView",
      "box_style": "",
      "children": [
       "IPY_MODEL_3c70db9c0d894be48db812ff22a1dee8",
       "IPY_MODEL_69b6bb8ba98449c48fdb4cbfc0b09644",
       "IPY_MODEL_1868d5d2d01245fc97d7c1f4cfaf1c4e"
      ],
      "layout": "IPY_MODEL_7036a3db94814cb1a41c50518aec9a2c"
     }
    },
    "b1673ea48d16430db628a761bc6406c3": {
     "model_module": "@jupyter-widgets/controls",
     "model_module_version": "1.5.0",
     "model_name": "ProgressStyleModel",
     "state": {
      "_model_module": "@jupyter-widgets/controls",
      "_model_module_version": "1.5.0",
      "_model_name": "ProgressStyleModel",
      "_view_count": null,
      "_view_module": "@jupyter-widgets/base",
      "_view_module_version": "1.2.0",
      "_view_name": "StyleView",
      "bar_color": null,
      "description_width": ""
     }
    },
    "d227d99f515546dcaa2a97f2e9725120": {
     "model_module": "@jupyter-widgets/base",
     "model_module_version": "1.2.0",
     "model_name": "LayoutModel",
     "state": {
      "_model_module": "@jupyter-widgets/base",
      "_model_module_version": "1.2.0",
      "_model_name": "LayoutModel",
      "_view_count": null,
      "_view_module": "@jupyter-widgets/base",
      "_view_module_version": "1.2.0",
      "_view_name": "LayoutView",
      "align_content": null,
      "align_items": null,
      "align_self": null,
      "border": null,
      "bottom": null,
      "display": null,
      "flex": null,
      "flex_flow": null,
      "grid_area": null,
      "grid_auto_columns": null,
      "grid_auto_flow": null,
      "grid_auto_rows": null,
      "grid_column": null,
      "grid_gap": null,
      "grid_row": null,
      "grid_template_areas": null,
      "grid_template_columns": null,
      "grid_template_rows": null,
      "height": null,
      "justify_content": null,
      "justify_items": null,
      "left": null,
      "margin": null,
      "max_height": null,
      "max_width": null,
      "min_height": null,
      "min_width": null,
      "object_fit": null,
      "object_position": null,
      "order": null,
      "overflow": null,
      "overflow_x": null,
      "overflow_y": null,
      "padding": null,
      "right": null,
      "top": null,
      "visibility": null,
      "width": null
     }
    },
    "f91305fc85264c5e94f554494f4f4c5b": {
     "model_module": "@jupyter-widgets/base",
     "model_module_version": "1.2.0",
     "model_name": "LayoutModel",
     "state": {
      "_model_module": "@jupyter-widgets/base",
      "_model_module_version": "1.2.0",
      "_model_name": "LayoutModel",
      "_view_count": null,
      "_view_module": "@jupyter-widgets/base",
      "_view_module_version": "1.2.0",
      "_view_name": "LayoutView",
      "align_content": null,
      "align_items": null,
      "align_self": null,
      "border": null,
      "bottom": null,
      "display": null,
      "flex": null,
      "flex_flow": null,
      "grid_area": null,
      "grid_auto_columns": null,
      "grid_auto_flow": null,
      "grid_auto_rows": null,
      "grid_column": null,
      "grid_gap": null,
      "grid_row": null,
      "grid_template_areas": null,
      "grid_template_columns": null,
      "grid_template_rows": null,
      "height": null,
      "justify_content": null,
      "justify_items": null,
      "left": null,
      "margin": null,
      "max_height": null,
      "max_width": null,
      "min_height": null,
      "min_width": null,
      "object_fit": null,
      "object_position": null,
      "order": null,
      "overflow": null,
      "overflow_x": null,
      "overflow_y": null,
      "padding": null,
      "right": null,
      "top": null,
      "visibility": null,
      "width": null
     }
    }
   }
  }
 },
 "nbformat": 4,
 "nbformat_minor": 1
}
